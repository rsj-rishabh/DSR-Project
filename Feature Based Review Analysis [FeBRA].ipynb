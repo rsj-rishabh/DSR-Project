{
 "cells": [
  {
   "cell_type": "code",
   "execution_count": 33,
   "metadata": {},
   "outputs": [],
   "source": [
    "#for working on dataframe\n",
    "import pandas as pd\n",
    "import re\n",
    "#for tokenizing and filtering\n",
    "import nltk\n",
    "from nltk import word_tokenize\n",
    "#for lemmatizing\n",
    "from nltk.stem import WordNetLemmatizer\n",
    "#for sentiment analysis\n",
    "import random\n",
    "from nltk.classify.scikitlearn import SklearnClassifier\n",
    "from sklearn.svm import SVC"
   ]
  },
  {
   "cell_type": "code",
   "execution_count": 2,
   "metadata": {},
   "outputs": [
    {
     "name": "stdout",
     "output_type": "stream",
     "text": [
      "<class 'pandas.core.frame.DataFrame'>\n",
      "RangeIndex: 395 entries, 0 to 394\n",
      "Data columns (total 10 columns):\n",
      "Unnamed: 0     395 non-null int64\n",
      "business_id    395 non-null object\n",
      "cool           395 non-null int64\n",
      "date           395 non-null object\n",
      "funny          395 non-null int64\n",
      "review_id      395 non-null object\n",
      "stars          395 non-null int64\n",
      "text           395 non-null object\n",
      "useful         395 non-null int64\n",
      "user_id        395 non-null object\n",
      "dtypes: int64(5), object(5)\n",
      "memory usage: 30.9+ KB\n"
     ]
    }
   ],
   "source": [
    "review_data = pd.read_csv('review_data.csv')\n",
    "review_data.info()"
   ]
  },
  {
   "cell_type": "markdown",
   "metadata": {},
   "source": [
    "# Text mining"
   ]
  },
  {
   "cell_type": "code",
   "execution_count": 3,
   "metadata": {},
   "outputs": [
    {
     "data": {
      "text/html": [
       "<div>\n",
       "<style scoped>\n",
       "    .dataframe tbody tr th:only-of-type {\n",
       "        vertical-align: middle;\n",
       "    }\n",
       "\n",
       "    .dataframe tbody tr th {\n",
       "        vertical-align: top;\n",
       "    }\n",
       "\n",
       "    .dataframe thead th {\n",
       "        text-align: right;\n",
       "    }\n",
       "</style>\n",
       "<table border=\"1\" class=\"dataframe\">\n",
       "  <thead>\n",
       "    <tr style=\"text-align: right;\">\n",
       "      <th></th>\n",
       "      <th>review_id</th>\n",
       "      <th>text</th>\n",
       "    </tr>\n",
       "  </thead>\n",
       "  <tbody>\n",
       "    <tr>\n",
       "      <th>0</th>\n",
       "      <td>x7mDIiDB3jEiPGPHOmDzyw</td>\n",
       "      <td>The pizza was okay. Not the best I've had. I p...</td>\n",
       "    </tr>\n",
       "    <tr>\n",
       "      <th>1</th>\n",
       "      <td>VluIpojME0yKOcRKI5L0Iw</td>\n",
       "      <td>came here on Monday, no line. its good, but no...</td>\n",
       "    </tr>\n",
       "    <tr>\n",
       "      <th>2</th>\n",
       "      <td>nsB9JAeghk0zOaSulSm9Yw</td>\n",
       "      <td>This place is truly a secret!  Its so hidden t...</td>\n",
       "    </tr>\n",
       "    <tr>\n",
       "      <th>3</th>\n",
       "      <td>pcn01EMERpCpHEcoaohdEg</td>\n",
       "      <td>This SECRET  PIZZA was a secret for about 5 st...</td>\n",
       "    </tr>\n",
       "    <tr>\n",
       "      <th>4</th>\n",
       "      <td>0mFtAPTmInbXHqDjX9eiOg</td>\n",
       "      <td>this is the BEST place to grab a quick slice o...</td>\n",
       "    </tr>\n",
       "  </tbody>\n",
       "</table>\n",
       "</div>"
      ],
      "text/plain": [
       "                review_id                                               text\n",
       "0  x7mDIiDB3jEiPGPHOmDzyw  The pizza was okay. Not the best I've had. I p...\n",
       "1  VluIpojME0yKOcRKI5L0Iw  came here on Monday, no line. its good, but no...\n",
       "2  nsB9JAeghk0zOaSulSm9Yw  This place is truly a secret!  Its so hidden t...\n",
       "3  pcn01EMERpCpHEcoaohdEg  This SECRET  PIZZA was a secret for about 5 st...\n",
       "4  0mFtAPTmInbXHqDjX9eiOg  this is the BEST place to grab a quick slice o..."
      ]
     },
     "execution_count": 3,
     "metadata": {},
     "output_type": "execute_result"
    }
   ],
   "source": [
    "reviews = review_data.loc[:,['review_id','text']]\n",
    "reviews.head()"
   ]
  },
  {
   "cell_type": "code",
   "execution_count": 16,
   "metadata": {},
   "outputs": [
    {
     "data": {
      "text/html": [
       "<div>\n",
       "<style scoped>\n",
       "    .dataframe tbody tr th:only-of-type {\n",
       "        vertical-align: middle;\n",
       "    }\n",
       "\n",
       "    .dataframe tbody tr th {\n",
       "        vertical-align: top;\n",
       "    }\n",
       "\n",
       "    .dataframe thead th {\n",
       "        text-align: right;\n",
       "    }\n",
       "</style>\n",
       "<table border=\"1\" class=\"dataframe\">\n",
       "  <thead>\n",
       "    <tr style=\"text-align: right;\">\n",
       "      <th></th>\n",
       "      <th>rid</th>\n",
       "      <th>text</th>\n",
       "    </tr>\n",
       "  </thead>\n",
       "  <tbody>\n",
       "    <tr>\n",
       "      <th>0</th>\n",
       "      <td>x7mDIiDB3jEiPGPHOmDzyw</td>\n",
       "      <td>The pizza was okay</td>\n",
       "    </tr>\n",
       "    <tr>\n",
       "      <th>1</th>\n",
       "      <td>x7mDIiDB3jEiPGPHOmDzyw</td>\n",
       "      <td>Not the best I've had</td>\n",
       "    </tr>\n",
       "    <tr>\n",
       "      <th>2</th>\n",
       "      <td>x7mDIiDB3jEiPGPHOmDzyw</td>\n",
       "      <td>I prefer Biaggio's on Flamingo / Fort Apache</td>\n",
       "    </tr>\n",
       "    <tr>\n",
       "      <th>3</th>\n",
       "      <td>x7mDIiDB3jEiPGPHOmDzyw</td>\n",
       "      <td>The chef there can make a MUCH better NY style...</td>\n",
       "    </tr>\n",
       "    <tr>\n",
       "      <th>4</th>\n",
       "      <td>x7mDIiDB3jEiPGPHOmDzyw</td>\n",
       "      <td>The pizzeria @ Cosmo was over priced for the q...</td>\n",
       "    </tr>\n",
       "  </tbody>\n",
       "</table>\n",
       "</div>"
      ],
      "text/plain": [
       "                      rid                                               text\n",
       "0  x7mDIiDB3jEiPGPHOmDzyw                                 The pizza was okay\n",
       "1  x7mDIiDB3jEiPGPHOmDzyw                              Not the best I've had\n",
       "2  x7mDIiDB3jEiPGPHOmDzyw       I prefer Biaggio's on Flamingo / Fort Apache\n",
       "3  x7mDIiDB3jEiPGPHOmDzyw  The chef there can make a MUCH better NY style...\n",
       "4  x7mDIiDB3jEiPGPHOmDzyw  The pizzeria @ Cosmo was over priced for the q..."
      ]
     },
     "execution_count": 16,
     "metadata": {},
     "output_type": "execute_result"
    }
   ],
   "source": [
    "txt = []\n",
    "rid = []\n",
    "for index,row in reviews.iterrows():\n",
    "    text = row['text']\n",
    "    text = text.split('. ')\n",
    "    txt.extend(text)\n",
    "    for i in range(0,len(text)):\n",
    "        rid.append(row['review_id'])\n",
    "\n",
    "t = pd.DataFrame(txt, columns=['text'])\n",
    "i = pd.DataFrame(rid, columns=['rid'])\n",
    "review_text = pd.concat([i,t], axis=1)\n",
    "review_text.head()"
   ]
  },
  {
   "cell_type": "code",
   "execution_count": 17,
   "metadata": {},
   "outputs": [
    {
     "data": {
      "text/html": [
       "<div>\n",
       "<style scoped>\n",
       "    .dataframe tbody tr th:only-of-type {\n",
       "        vertical-align: middle;\n",
       "    }\n",
       "\n",
       "    .dataframe tbody tr th {\n",
       "        vertical-align: top;\n",
       "    }\n",
       "\n",
       "    .dataframe thead th {\n",
       "        text-align: right;\n",
       "    }\n",
       "</style>\n",
       "<table border=\"1\" class=\"dataframe\">\n",
       "  <thead>\n",
       "    <tr style=\"text-align: right;\">\n",
       "      <th></th>\n",
       "      <th>rid</th>\n",
       "      <th>text</th>\n",
       "      <th>tokens</th>\n",
       "    </tr>\n",
       "  </thead>\n",
       "  <tbody>\n",
       "    <tr>\n",
       "      <th>0</th>\n",
       "      <td>x7mDIiDB3jEiPGPHOmDzyw</td>\n",
       "      <td>The pizza was okay</td>\n",
       "      <td>[the, pizza, was, okay]</td>\n",
       "    </tr>\n",
       "    <tr>\n",
       "      <th>1</th>\n",
       "      <td>x7mDIiDB3jEiPGPHOmDzyw</td>\n",
       "      <td>Not the best I've had</td>\n",
       "      <td>[not, the, best, i, 've, had]</td>\n",
       "    </tr>\n",
       "    <tr>\n",
       "      <th>2</th>\n",
       "      <td>x7mDIiDB3jEiPGPHOmDzyw</td>\n",
       "      <td>I prefer Biaggio's on Flamingo / Fort Apache</td>\n",
       "      <td>[i, prefer, biaggio, 's, on, flamingo, /, fort...</td>\n",
       "    </tr>\n",
       "    <tr>\n",
       "      <th>3</th>\n",
       "      <td>x7mDIiDB3jEiPGPHOmDzyw</td>\n",
       "      <td>The chef there can make a MUCH better NY style...</td>\n",
       "      <td>[the, chef, there, can, make, a, much, better,...</td>\n",
       "    </tr>\n",
       "    <tr>\n",
       "      <th>4</th>\n",
       "      <td>x7mDIiDB3jEiPGPHOmDzyw</td>\n",
       "      <td>The pizzeria @ Cosmo was over priced for the q...</td>\n",
       "      <td>[the, pizzeria, @, cosmo, was, over, priced, f...</td>\n",
       "    </tr>\n",
       "  </tbody>\n",
       "</table>\n",
       "</div>"
      ],
      "text/plain": [
       "                      rid                                               text  \\\n",
       "0  x7mDIiDB3jEiPGPHOmDzyw                                 The pizza was okay   \n",
       "1  x7mDIiDB3jEiPGPHOmDzyw                              Not the best I've had   \n",
       "2  x7mDIiDB3jEiPGPHOmDzyw       I prefer Biaggio's on Flamingo / Fort Apache   \n",
       "3  x7mDIiDB3jEiPGPHOmDzyw  The chef there can make a MUCH better NY style...   \n",
       "4  x7mDIiDB3jEiPGPHOmDzyw  The pizzeria @ Cosmo was over priced for the q...   \n",
       "\n",
       "                                              tokens  \n",
       "0                            [the, pizza, was, okay]  \n",
       "1                      [not, the, best, i, 've, had]  \n",
       "2  [i, prefer, biaggio, 's, on, flamingo, /, fort...  \n",
       "3  [the, chef, there, can, make, a, much, better,...  \n",
       "4  [the, pizzeria, @, cosmo, was, over, priced, f...  "
      ]
     },
     "execution_count": 17,
     "metadata": {},
     "output_type": "execute_result"
    }
   ],
   "source": [
    "token_list = []\n",
    "for index,row in review_text.iterrows():\n",
    "    text = row['text'].lower()\n",
    "    tokens = nltk.word_tokenize(text)\n",
    "    token_list.append([tokens])\n",
    "\n",
    "token_col = pd.DataFrame(token_list, columns=['tokens'])\n",
    "review_text = pd.concat([review_text, token_col], axis=1)\n",
    "review_text.head()"
   ]
  },
  {
   "cell_type": "code",
   "execution_count": 18,
   "metadata": {},
   "outputs": [
    {
     "data": {
      "text/html": [
       "<div>\n",
       "<style scoped>\n",
       "    .dataframe tbody tr th:only-of-type {\n",
       "        vertical-align: middle;\n",
       "    }\n",
       "\n",
       "    .dataframe tbody tr th {\n",
       "        vertical-align: top;\n",
       "    }\n",
       "\n",
       "    .dataframe thead th {\n",
       "        text-align: right;\n",
       "    }\n",
       "</style>\n",
       "<table border=\"1\" class=\"dataframe\">\n",
       "  <thead>\n",
       "    <tr style=\"text-align: right;\">\n",
       "      <th></th>\n",
       "      <th>rid</th>\n",
       "      <th>text</th>\n",
       "      <th>tokens</th>\n",
       "      <th>tagged_tokens</th>\n",
       "    </tr>\n",
       "  </thead>\n",
       "  <tbody>\n",
       "    <tr>\n",
       "      <th>0</th>\n",
       "      <td>x7mDIiDB3jEiPGPHOmDzyw</td>\n",
       "      <td>The pizza was okay</td>\n",
       "      <td>[the, pizza, was, okay]</td>\n",
       "      <td>[(the, DT), (pizza, NN), (was, VBD), (okay, JJ)]</td>\n",
       "    </tr>\n",
       "    <tr>\n",
       "      <th>1</th>\n",
       "      <td>x7mDIiDB3jEiPGPHOmDzyw</td>\n",
       "      <td>Not the best I've had</td>\n",
       "      <td>[not, the, best, i, 've, had]</td>\n",
       "      <td>[(not, RB), (the, DT), (best, JJS), (i, NN), (...</td>\n",
       "    </tr>\n",
       "    <tr>\n",
       "      <th>2</th>\n",
       "      <td>x7mDIiDB3jEiPGPHOmDzyw</td>\n",
       "      <td>I prefer Biaggio's on Flamingo / Fort Apache</td>\n",
       "      <td>[i, prefer, biaggio, 's, on, flamingo, /, fort...</td>\n",
       "      <td>[(i, NN), (prefer, VBP), (biaggio, NN), ('s, P...</td>\n",
       "    </tr>\n",
       "    <tr>\n",
       "      <th>3</th>\n",
       "      <td>x7mDIiDB3jEiPGPHOmDzyw</td>\n",
       "      <td>The chef there can make a MUCH better NY style...</td>\n",
       "      <td>[the, chef, there, can, make, a, much, better,...</td>\n",
       "      <td>[(the, DT), (chef, NN), (there, EX), (can, MD)...</td>\n",
       "    </tr>\n",
       "    <tr>\n",
       "      <th>4</th>\n",
       "      <td>x7mDIiDB3jEiPGPHOmDzyw</td>\n",
       "      <td>The pizzeria @ Cosmo was over priced for the q...</td>\n",
       "      <td>[the, pizzeria, @, cosmo, was, over, priced, f...</td>\n",
       "      <td>[(the, DT), (pizzeria, NN), (@, NNP), (cosmo, ...</td>\n",
       "    </tr>\n",
       "  </tbody>\n",
       "</table>\n",
       "</div>"
      ],
      "text/plain": [
       "                      rid                                               text  \\\n",
       "0  x7mDIiDB3jEiPGPHOmDzyw                                 The pizza was okay   \n",
       "1  x7mDIiDB3jEiPGPHOmDzyw                              Not the best I've had   \n",
       "2  x7mDIiDB3jEiPGPHOmDzyw       I prefer Biaggio's on Flamingo / Fort Apache   \n",
       "3  x7mDIiDB3jEiPGPHOmDzyw  The chef there can make a MUCH better NY style...   \n",
       "4  x7mDIiDB3jEiPGPHOmDzyw  The pizzeria @ Cosmo was over priced for the q...   \n",
       "\n",
       "                                              tokens  \\\n",
       "0                            [the, pizza, was, okay]   \n",
       "1                      [not, the, best, i, 've, had]   \n",
       "2  [i, prefer, biaggio, 's, on, flamingo, /, fort...   \n",
       "3  [the, chef, there, can, make, a, much, better,...   \n",
       "4  [the, pizzeria, @, cosmo, was, over, priced, f...   \n",
       "\n",
       "                                       tagged_tokens  \n",
       "0   [(the, DT), (pizza, NN), (was, VBD), (okay, JJ)]  \n",
       "1  [(not, RB), (the, DT), (best, JJS), (i, NN), (...  \n",
       "2  [(i, NN), (prefer, VBP), (biaggio, NN), ('s, P...  \n",
       "3  [(the, DT), (chef, NN), (there, EX), (can, MD)...  \n",
       "4  [(the, DT), (pizzeria, NN), (@, NNP), (cosmo, ...  "
      ]
     },
     "execution_count": 18,
     "metadata": {},
     "output_type": "execute_result"
    }
   ],
   "source": [
    "ttext = []\n",
    "for index,row in review_text.iterrows():\n",
    "    filtered_text = row['tokens']\n",
    "    tagged_text = nltk.pos_tag(filtered_text) \n",
    "    ttext.append([tagged_text])\n",
    "\n",
    "tagged_col = pd.DataFrame(ttext, columns=['tagged_tokens'])\n",
    "review_text = pd.concat([review_text, tagged_col], axis=1)\n",
    "review_text.head()"
   ]
  },
  {
   "cell_type": "code",
   "execution_count": 19,
   "metadata": {},
   "outputs": [
    {
     "data": {
      "text/html": [
       "<div>\n",
       "<style scoped>\n",
       "    .dataframe tbody tr th:only-of-type {\n",
       "        vertical-align: middle;\n",
       "    }\n",
       "\n",
       "    .dataframe tbody tr th {\n",
       "        vertical-align: top;\n",
       "    }\n",
       "\n",
       "    .dataframe thead th {\n",
       "        text-align: right;\n",
       "    }\n",
       "</style>\n",
       "<table border=\"1\" class=\"dataframe\">\n",
       "  <thead>\n",
       "    <tr style=\"text-align: right;\">\n",
       "      <th></th>\n",
       "      <th>rid</th>\n",
       "      <th>text</th>\n",
       "      <th>tokens</th>\n",
       "      <th>tagged_tokens</th>\n",
       "      <th>nouns</th>\n",
       "    </tr>\n",
       "  </thead>\n",
       "  <tbody>\n",
       "    <tr>\n",
       "      <th>0</th>\n",
       "      <td>x7mDIiDB3jEiPGPHOmDzyw</td>\n",
       "      <td>The pizza was okay</td>\n",
       "      <td>[the, pizza, was, okay]</td>\n",
       "      <td>[(the, DT), (pizza, NN), (was, VBD), (okay, JJ)]</td>\n",
       "      <td>[pizza]</td>\n",
       "    </tr>\n",
       "    <tr>\n",
       "      <th>1</th>\n",
       "      <td>x7mDIiDB3jEiPGPHOmDzyw</td>\n",
       "      <td>Not the best I've had</td>\n",
       "      <td>[not, the, best, i, 've, had]</td>\n",
       "      <td>[(not, RB), (the, DT), (best, JJS), (i, NN), (...</td>\n",
       "      <td>[i]</td>\n",
       "    </tr>\n",
       "    <tr>\n",
       "      <th>2</th>\n",
       "      <td>x7mDIiDB3jEiPGPHOmDzyw</td>\n",
       "      <td>I prefer Biaggio's on Flamingo / Fort Apache</td>\n",
       "      <td>[i, prefer, biaggio, 's, on, flamingo, /, fort...</td>\n",
       "      <td>[(i, NN), (prefer, VBP), (biaggio, NN), ('s, P...</td>\n",
       "      <td>[i, biaggio, flamingo, /, fort, apache]</td>\n",
       "    </tr>\n",
       "    <tr>\n",
       "      <th>3</th>\n",
       "      <td>x7mDIiDB3jEiPGPHOmDzyw</td>\n",
       "      <td>The chef there can make a MUCH better NY style...</td>\n",
       "      <td>[the, chef, there, can, make, a, much, better,...</td>\n",
       "      <td>[(the, DT), (chef, NN), (there, EX), (can, MD)...</td>\n",
       "      <td>[chef, style, pizza]</td>\n",
       "    </tr>\n",
       "    <tr>\n",
       "      <th>4</th>\n",
       "      <td>x7mDIiDB3jEiPGPHOmDzyw</td>\n",
       "      <td>The pizzeria @ Cosmo was over priced for the q...</td>\n",
       "      <td>[the, pizzeria, @, cosmo, was, over, priced, f...</td>\n",
       "      <td>[(the, DT), (pizzeria, NN), (@, NNP), (cosmo, ...</td>\n",
       "      <td>[pizzeria, @, cosmo, quality, lack, personalit...</td>\n",
       "    </tr>\n",
       "  </tbody>\n",
       "</table>\n",
       "</div>"
      ],
      "text/plain": [
       "                      rid                                               text  \\\n",
       "0  x7mDIiDB3jEiPGPHOmDzyw                                 The pizza was okay   \n",
       "1  x7mDIiDB3jEiPGPHOmDzyw                              Not the best I've had   \n",
       "2  x7mDIiDB3jEiPGPHOmDzyw       I prefer Biaggio's on Flamingo / Fort Apache   \n",
       "3  x7mDIiDB3jEiPGPHOmDzyw  The chef there can make a MUCH better NY style...   \n",
       "4  x7mDIiDB3jEiPGPHOmDzyw  The pizzeria @ Cosmo was over priced for the q...   \n",
       "\n",
       "                                              tokens  \\\n",
       "0                            [the, pizza, was, okay]   \n",
       "1                      [not, the, best, i, 've, had]   \n",
       "2  [i, prefer, biaggio, 's, on, flamingo, /, fort...   \n",
       "3  [the, chef, there, can, make, a, much, better,...   \n",
       "4  [the, pizzeria, @, cosmo, was, over, priced, f...   \n",
       "\n",
       "                                       tagged_tokens  \\\n",
       "0   [(the, DT), (pizza, NN), (was, VBD), (okay, JJ)]   \n",
       "1  [(not, RB), (the, DT), (best, JJS), (i, NN), (...   \n",
       "2  [(i, NN), (prefer, VBP), (biaggio, NN), ('s, P...   \n",
       "3  [(the, DT), (chef, NN), (there, EX), (can, MD)...   \n",
       "4  [(the, DT), (pizzeria, NN), (@, NNP), (cosmo, ...   \n",
       "\n",
       "                                               nouns  \n",
       "0                                            [pizza]  \n",
       "1                                                [i]  \n",
       "2            [i, biaggio, flamingo, /, fort, apache]  \n",
       "3                               [chef, style, pizza]  \n",
       "4  [pizzeria, @, cosmo, quality, lack, personalit...  "
      ]
     },
     "execution_count": 19,
     "metadata": {},
     "output_type": "execute_result"
    }
   ],
   "source": [
    "ntext = []\n",
    "for index,row in review_text.iterrows():\n",
    "    tagged_text = row['tagged_tokens']\n",
    "    nouns = []\n",
    "    for tt in tagged_text:\n",
    "        tag = tt[1]\n",
    "        if tag in ['NN','NNS','NNP','NNPS']:\n",
    "            nouns.append(tt[0])\n",
    "    ntext.append([nouns])\n",
    "\n",
    "noun_col = pd.DataFrame(ntext, columns=['nouns'])\n",
    "review_text = pd.concat([review_text, noun_col], axis=1)\n",
    "review_text.head()"
   ]
  },
  {
   "cell_type": "markdown",
   "metadata": {},
   "source": [
    "## Noun filtering"
   ]
  },
  {
   "cell_type": "code",
   "execution_count": 20,
   "metadata": {},
   "outputs": [
    {
     "data": {
      "text/plain": [
       "[['pizza'],\n",
       " ['i'],\n",
       " ['i', 'biaggio', 'flamingo', '/', 'fort', 'apache'],\n",
       " ['chef', 'style', 'pizza'],\n",
       " ['pizzeria', '@', 'cosmo', 'quality', 'lack', 'personality', 'food']]"
      ]
     },
     "execution_count": 20,
     "metadata": {},
     "output_type": "execute_result"
    }
   ],
   "source": [
    "filtered_nouns = review_text['nouns']\n",
    "filtered_nouns = filtered_nouns.tolist()\n",
    "\n",
    "lemmatizer = WordNetLemmatizer()\n",
    "lemm_nouns = []\n",
    "for fn in filtered_nouns:\n",
    "    lf = []\n",
    "    for f in fn:\n",
    "        lf.append(lemmatizer.lemmatize(f))\n",
    "    lemm_nouns.append(lf)\n",
    "lemm_nouns[0:5]"
   ]
  },
  {
   "cell_type": "markdown",
   "metadata": {},
   "source": [
    "# Frequent feature extraction"
   ]
  },
  {
   "cell_type": "code",
   "execution_count": 21,
   "metadata": {},
   "outputs": [],
   "source": [
    "features = {}\n",
    "for nouns in lemm_nouns:\n",
    "    keys = features.keys()\n",
    "    visited = []\n",
    "    for n in nouns:\n",
    "        if n not in visited:\n",
    "            if n in keys:\n",
    "                features[n] += 1\n",
    "            else:\n",
    "                features.update({n: 1})"
   ]
  },
  {
   "cell_type": "code",
   "execution_count": 100,
   "metadata": {},
   "outputs": [],
   "source": [
    "frequent_ftr = []\n",
    "threshold = int(review_text['text'].count() * 0.03)\n",
    "for k,v in features.items():\n",
    "    if v >= threshold:\n",
    "        frequent_ftr.append(k)"
   ]
  },
  {
   "cell_type": "markdown",
   "metadata": {},
   "source": [
    "# Feature report"
   ]
  },
  {
   "cell_type": "code",
   "execution_count": 101,
   "metadata": {},
   "outputs": [
    {
     "name": "stdout",
     "output_type": "stream",
     "text": [
      "125  people commented on  line\n",
      "306  people commented on  place\n",
      "86  people commented on  time\n",
      "826  people commented on  pizza\n",
      "65  people commented on  pepperoni\n",
      "95  people commented on  vega\n",
      "56  people commented on  hallway\n",
      "491  people commented on  i\n",
      "60  people commented on  strip\n",
      "57  people commented on  cheese\n",
      "60  people commented on  pie\n",
      "78  people commented on  floor\n",
      "286  people commented on  slice\n",
      "85  people commented on  night\n",
      "90  people commented on  crust\n"
     ]
    }
   ],
   "source": [
    "for k,v in features.items():\n",
    "    if k in frequent_ftr:\n",
    "        print(v, ' people commented on ', k)"
   ]
  },
  {
   "cell_type": "markdown",
   "metadata": {},
   "source": [
    "# Sentiment analysis\n",
    "### (not working)"
   ]
  },
  {
   "cell_type": "code",
   "execution_count": 104,
   "metadata": {},
   "outputs": [],
   "source": [
    "from nltk.corpus import movie_reviews as pc\n",
    "\n",
    "documents = [(list(pc.words(fileid)), category)\n",
    "             for category in pc.categories()\n",
    "             for fileid in pc.fileids(category)]\n",
    "\n",
    "random.shuffle(documents)\n",
    "\n",
    "all_words = []\n",
    "for w in pc.words():\n",
    "    all_words.append(w.lower())\n",
    "\n",
    "all_words = nltk.FreqDist(all_words)"
   ]
  },
  {
   "cell_type": "code",
   "execution_count": 105,
   "metadata": {},
   "outputs": [],
   "source": [
    "word_features = list(all_words.keys())[:3000]\n",
    "\n",
    "def find_features(document):\n",
    "    words = set(document)\n",
    "    features = {}\n",
    "    for w in word_features:\n",
    "        features[w] = (w in words)\n",
    "\n",
    "    return features\n",
    "\n",
    "featuresets = [(find_features(rev), category) for (rev, category) in documents]\n",
    "#featuresets[0:5]"
   ]
  },
  {
   "cell_type": "code",
   "execution_count": 106,
   "metadata": {},
   "outputs": [
    {
     "data": {
      "text/plain": [
       "<SklearnClassifier(SVC(C=1.0, cache_size=200, class_weight=None, coef0=0.0,\n",
       "  decision_function_shape='ovr', degree=3, gamma='auto', kernel='rbf',\n",
       "  max_iter=-1, probability=False, random_state=None, shrinking=True,\n",
       "  tol=0.001, verbose=False))>"
      ]
     },
     "execution_count": 106,
     "metadata": {},
     "output_type": "execute_result"
    }
   ],
   "source": [
    "training_set = featuresets\n",
    "SVC_classifier = SklearnClassifier(SVC())\n",
    "SVC_classifier.train(training_set)"
   ]
  },
  {
   "cell_type": "code",
   "execution_count": 119,
   "metadata": {},
   "outputs": [],
   "source": [
    "dat1 = []\n",
    "for index,row in review_text.iterrows():\n",
    "    words = row['tokens']\n",
    "    features = {}\n",
    "    for w in word_features:\n",
    "        if w in words:\n",
    "            features[w] = 'pos'\n",
    "    dat1.append(features)\n",
    "\n",
    "testing_set = dat1"
   ]
  },
  {
   "cell_type": "code",
   "execution_count": 121,
   "metadata": {},
   "outputs": [
    {
     "name": "stdout",
     "output_type": "stream",
     "text": [
      " price is reasonable, it is hard to find\n",
      "neg\n",
      "but that was the fun of it trying to find it\n",
      "neg\n",
      " no name, no sign\n",
      "neg\n",
      " if your clubbing @ the Cosmo and your have the munchies this is your place\n",
      "neg\n",
      " they use fresh toppings, crust is thin and very tasty.\n",
      "neg\n",
      "This place is truly a secret!  Its so hidden that there are no signs in the directory of the restaurant itself except for the line of people waiting to enjoy a slice of the best pizza they ever had\n",
      "neg\n",
      " It is thin crust pizza, crispy crust and delicious toppings!  If you can go for lunch there is less of a line.\n",
      "Their pepperoni was nice and oily just the way i like it\n",
      "neg\n",
      "This SECRET  PIZZA was a secret for about 5 stays at the Cosmo\n",
      "neg\n",
      "Now that I know where it is its my favorite late night snack\n",
      "neg\n",
      "Ask for it well done and the crust will be perfect\n",
      "neg\n"
     ]
    }
   ],
   "source": [
    "for i in range(10,20):\n",
    "    print(review_text['text'][i])\n",
    "    print(SVC_classifier.classify(testing_set[i]))"
   ]
  },
  {
   "cell_type": "code",
   "execution_count": null,
   "metadata": {},
   "outputs": [],
   "source": []
  }
 ],
 "metadata": {
  "kernelspec": {
   "display_name": "Python 3",
   "language": "python",
   "name": "python3"
  },
  "language_info": {
   "codemirror_mode": {
    "name": "ipython",
    "version": 3
   },
   "file_extension": ".py",
   "mimetype": "text/x-python",
   "name": "python",
   "nbconvert_exporter": "python",
   "pygments_lexer": "ipython3",
   "version": "3.5.2"
  }
 },
 "nbformat": 4,
 "nbformat_minor": 2
}
