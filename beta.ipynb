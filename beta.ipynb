{
 "cells": [
  {
   "cell_type": "code",
   "execution_count": 9,
   "metadata": {},
   "outputs": [],
   "source": [
    "import pandas as pd\n",
    "import nltk\n",
    "import numpy as np"
   ]
  },
  {
   "cell_type": "markdown",
   "metadata": {},
   "source": [
    "# Get Data"
   ]
  },
  {
   "cell_type": "code",
   "execution_count": 11,
   "metadata": {},
   "outputs": [
    {
     "data": {
      "text/html": [
       "<div>\n",
       "<style scoped>\n",
       "    .dataframe tbody tr th:only-of-type {\n",
       "        vertical-align: middle;\n",
       "    }\n",
       "\n",
       "    .dataframe tbody tr th {\n",
       "        vertical-align: top;\n",
       "    }\n",
       "\n",
       "    .dataframe thead th {\n",
       "        text-align: right;\n",
       "    }\n",
       "</style>\n",
       "<table border=\"1\" class=\"dataframe\">\n",
       "  <thead>\n",
       "    <tr style=\"text-align: right;\">\n",
       "      <th></th>\n",
       "      <th>business_id</th>\n",
       "      <th>cool</th>\n",
       "      <th>date</th>\n",
       "      <th>funny</th>\n",
       "      <th>review_id</th>\n",
       "      <th>stars</th>\n",
       "      <th>text</th>\n",
       "      <th>useful</th>\n",
       "      <th>user_id</th>\n",
       "    </tr>\n",
       "  </thead>\n",
       "  <tbody>\n",
       "    <tr>\n",
       "      <th>0</th>\n",
       "      <td>iCQpiavjjPzJ5_3gPD5Ebg</td>\n",
       "      <td>0</td>\n",
       "      <td>2011-02-25</td>\n",
       "      <td>0</td>\n",
       "      <td>x7mDIiDB3jEiPGPHOmDzyw</td>\n",
       "      <td>2</td>\n",
       "      <td>The pizza was okay. Not the best I've had. I p...</td>\n",
       "      <td>0</td>\n",
       "      <td>msQe1u7Z_XuqjGoqhB0J5g</td>\n",
       "    </tr>\n",
       "  </tbody>\n",
       "</table>\n",
       "</div>"
      ],
      "text/plain": [
       "              business_id  cool       date  funny               review_id  \\\n",
       "0  iCQpiavjjPzJ5_3gPD5Ebg     0 2011-02-25      0  x7mDIiDB3jEiPGPHOmDzyw   \n",
       "\n",
       "   stars                                               text  useful  \\\n",
       "0      2  The pizza was okay. Not the best I've had. I p...       0   \n",
       "\n",
       "                  user_id  \n",
       "0  msQe1u7Z_XuqjGoqhB0J5g  "
      ]
     },
     "execution_count": 11,
     "metadata": {},
     "output_type": "execute_result"
    }
   ],
   "source": [
    "review_reader = pd.read_json('yelp_academic_dataset_review.json', chunksize=1, lines=True)\n",
    "i = 0\n",
    "business_data = pd.DataFrame([])\n",
    "for chunk in review_reader:\n",
    "    #print(chunk)\n",
    "    business_data = chunk\n",
    "    i = i+1\n",
    "    if i==1:\n",
    "        break\n",
    "#business_data = pd.concat(df)\n",
    "#print(type(chunk))\n",
    "business_data"
   ]
  },
  {
   "cell_type": "code",
   "execution_count": 12,
   "metadata": {},
   "outputs": [
    {
     "data": {
      "text/plain": [
       "'iCQpiavjjPzJ5_3gPD5Ebg'"
      ]
     },
     "execution_count": 12,
     "metadata": {},
     "output_type": "execute_result"
    }
   ],
   "source": [
    "business_id = business_data['business_id']\n",
    "business_id = business_id[0]\n",
    "business_id"
   ]
  },
  {
   "cell_type": "code",
   "execution_count": null,
   "metadata": {},
   "outputs": [],
   "source": [
    "'''review_reader = pd.read_json('yelp_academic_dataset_review.json', chunksize=1, lines=True)\n",
    "i = 0\n",
    "j = 0\n",
    "df = []\n",
    "for chunk in review_reader:\n",
    "    #for c in chunk:\n",
    "    if chunk['business_id'][j] == business_id:\n",
    "        #print(chunk['business_id'][j])\n",
    "        df.append(chunk)\n",
    "        i = i+1\n",
    "        if i==200:\n",
    "            break\n",
    "    j = j+1\n",
    "    #if j==10000:\n",
    "    #    break'''"
   ]
  },
  {
   "cell_type": "code",
   "execution_count": 28,
   "metadata": {},
   "outputs": [
    {
     "name": "stdout",
     "output_type": "stream",
     "text": [
      "<class 'pandas.core.frame.DataFrame'>\n",
      "Int64Index: 395 entries, 0 to 1000571\n",
      "Data columns (total 9 columns):\n",
      "business_id    395 non-null object\n",
      "cool           395 non-null int64\n",
      "date           395 non-null datetime64[ns]\n",
      "funny          395 non-null int64\n",
      "review_id      395 non-null object\n",
      "stars          395 non-null int64\n",
      "text           395 non-null object\n",
      "useful         395 non-null int64\n",
      "user_id        395 non-null object\n",
      "dtypes: datetime64[ns](1), int64(4), object(4)\n",
      "memory usage: 30.9+ KB\n"
     ]
    }
   ],
   "source": [
    "#review_data = pd.concat(df)\n",
    "review_data = pd.read_csv('review_data.csv')\n",
    "review_data.info()"
   ]
  },
  {
   "cell_type": "markdown",
   "metadata": {},
   "source": [
    "## Write data to csv file"
   ]
  },
  {
   "cell_type": "code",
   "execution_count": 31,
   "metadata": {},
   "outputs": [],
   "source": [
    "#review_data.to_csv('review_data.csv')\n",
    "#review_text.to_json('review_text.json')"
   ]
  },
  {
   "cell_type": "markdown",
   "metadata": {},
   "source": [
    "## Cleaning data"
   ]
  },
  {
   "cell_type": "code",
   "execution_count": 34,
   "metadata": {},
   "outputs": [
    {
     "data": {
      "text/html": [
       "<div>\n",
       "<style scoped>\n",
       "    .dataframe tbody tr th:only-of-type {\n",
       "        vertical-align: middle;\n",
       "    }\n",
       "\n",
       "    .dataframe tbody tr th {\n",
       "        vertical-align: top;\n",
       "    }\n",
       "\n",
       "    .dataframe thead th {\n",
       "        text-align: right;\n",
       "    }\n",
       "</style>\n",
       "<table border=\"1\" class=\"dataframe\">\n",
       "  <thead>\n",
       "    <tr style=\"text-align: right;\">\n",
       "      <th></th>\n",
       "      <th>review_id</th>\n",
       "      <th>text</th>\n",
       "    </tr>\n",
       "  </thead>\n",
       "  <tbody>\n",
       "    <tr>\n",
       "      <th>0</th>\n",
       "      <td>x7mDIiDB3jEiPGPHOmDzyw</td>\n",
       "      <td>The pizza was okay. Not the best I've had. I p...</td>\n",
       "    </tr>\n",
       "    <tr>\n",
       "      <th>788</th>\n",
       "      <td>VluIpojME0yKOcRKI5L0Iw</td>\n",
       "      <td>came here on Monday, no line. its good, but no...</td>\n",
       "    </tr>\n",
       "    <tr>\n",
       "      <th>3314</th>\n",
       "      <td>nsB9JAeghk0zOaSulSm9Yw</td>\n",
       "      <td>This place is truly a secret!  Its so hidden t...</td>\n",
       "    </tr>\n",
       "    <tr>\n",
       "      <th>6726</th>\n",
       "      <td>pcn01EMERpCpHEcoaohdEg</td>\n",
       "      <td>This SECRET  PIZZA was a secret for about 5 st...</td>\n",
       "    </tr>\n",
       "    <tr>\n",
       "      <th>8969</th>\n",
       "      <td>0mFtAPTmInbXHqDjX9eiOg</td>\n",
       "      <td>this is the BEST place to grab a quick slice o...</td>\n",
       "    </tr>\n",
       "  </tbody>\n",
       "</table>\n",
       "</div>"
      ],
      "text/plain": [
       "                   review_id  \\\n",
       "0     x7mDIiDB3jEiPGPHOmDzyw   \n",
       "788   VluIpojME0yKOcRKI5L0Iw   \n",
       "3314  nsB9JAeghk0zOaSulSm9Yw   \n",
       "6726  pcn01EMERpCpHEcoaohdEg   \n",
       "8969  0mFtAPTmInbXHqDjX9eiOg   \n",
       "\n",
       "                                                   text  \n",
       "0     The pizza was okay. Not the best I've had. I p...  \n",
       "788   came here on Monday, no line. its good, but no...  \n",
       "3314  This place is truly a secret!  Its so hidden t...  \n",
       "6726  This SECRET  PIZZA was a secret for about 5 st...  \n",
       "8969  this is the BEST place to grab a quick slice o...  "
      ]
     },
     "execution_count": 34,
     "metadata": {},
     "output_type": "execute_result"
    }
   ],
   "source": [
    "reviews = review_data.loc[:,['review_id','text']]\n",
    "reviews.head()"
   ]
  },
  {
   "cell_type": "code",
   "execution_count": 69,
   "metadata": {},
   "outputs": [
    {
     "data": {
      "text/html": [
       "<div>\n",
       "<style scoped>\n",
       "    .dataframe tbody tr th:only-of-type {\n",
       "        vertical-align: middle;\n",
       "    }\n",
       "\n",
       "    .dataframe tbody tr th {\n",
       "        vertical-align: top;\n",
       "    }\n",
       "\n",
       "    .dataframe thead th {\n",
       "        text-align: right;\n",
       "    }\n",
       "</style>\n",
       "<table border=\"1\" class=\"dataframe\">\n",
       "  <thead>\n",
       "    <tr style=\"text-align: right;\">\n",
       "      <th></th>\n",
       "      <th>text</th>\n",
       "    </tr>\n",
       "  </thead>\n",
       "  <tbody>\n",
       "    <tr>\n",
       "      <th>0</th>\n",
       "      <td>The pizza was okay</td>\n",
       "    </tr>\n",
       "    <tr>\n",
       "      <th>1</th>\n",
       "      <td>Not the best I've had</td>\n",
       "    </tr>\n",
       "    <tr>\n",
       "      <th>2</th>\n",
       "      <td>I prefer Biaggio's on Flamingo / Fort Apache</td>\n",
       "    </tr>\n",
       "    <tr>\n",
       "      <th>3</th>\n",
       "      <td>The chef there can make a MUCH better NY style...</td>\n",
       "    </tr>\n",
       "    <tr>\n",
       "      <th>4</th>\n",
       "      <td>The pizzeria @ Cosmo was over priced for the q...</td>\n",
       "    </tr>\n",
       "  </tbody>\n",
       "</table>\n",
       "</div>"
      ],
      "text/plain": [
       "                                                text\n",
       "0                                 The pizza was okay\n",
       "1                              Not the best I've had\n",
       "2       I prefer Biaggio's on Flamingo / Fort Apache\n",
       "3  The chef there can make a MUCH better NY style...\n",
       "4  The pizzeria @ Cosmo was over priced for the q..."
      ]
     },
     "execution_count": 69,
     "metadata": {},
     "output_type": "execute_result"
    }
   ],
   "source": [
    "txt = []\n",
    "for index,row in reviews.iterrows():\n",
    "    text = row['text']\n",
    "    text = text.split('. ')\n",
    "    txt.extend(text)\n",
    "txt\n",
    "review_text = pd.DataFrame(txt, columns=['text'])\n",
    "review_text.head()"
   ]
  },
  {
   "cell_type": "markdown",
   "metadata": {},
   "source": [
    "# Tokenize"
   ]
  },
  {
   "cell_type": "code",
   "execution_count": 70,
   "metadata": {},
   "outputs": [
    {
     "data": {
      "text/html": [
       "<div>\n",
       "<style scoped>\n",
       "    .dataframe tbody tr th:only-of-type {\n",
       "        vertical-align: middle;\n",
       "    }\n",
       "\n",
       "    .dataframe tbody tr th {\n",
       "        vertical-align: top;\n",
       "    }\n",
       "\n",
       "    .dataframe thead th {\n",
       "        text-align: right;\n",
       "    }\n",
       "</style>\n",
       "<table border=\"1\" class=\"dataframe\">\n",
       "  <thead>\n",
       "    <tr style=\"text-align: right;\">\n",
       "      <th></th>\n",
       "      <th>text</th>\n",
       "      <th>tokens</th>\n",
       "    </tr>\n",
       "  </thead>\n",
       "  <tbody>\n",
       "    <tr>\n",
       "      <th>0</th>\n",
       "      <td>The pizza was okay</td>\n",
       "      <td>[The, pizza, was, okay]</td>\n",
       "    </tr>\n",
       "    <tr>\n",
       "      <th>1</th>\n",
       "      <td>Not the best I've had</td>\n",
       "      <td>[Not, the, best, I, 've, had]</td>\n",
       "    </tr>\n",
       "    <tr>\n",
       "      <th>2</th>\n",
       "      <td>I prefer Biaggio's on Flamingo / Fort Apache</td>\n",
       "      <td>[I, prefer, Biaggio, 's, on, Flamingo, /, Fort...</td>\n",
       "    </tr>\n",
       "    <tr>\n",
       "      <th>3</th>\n",
       "      <td>The chef there can make a MUCH better NY style...</td>\n",
       "      <td>[The, chef, there, can, make, a, MUCH, better,...</td>\n",
       "    </tr>\n",
       "    <tr>\n",
       "      <th>4</th>\n",
       "      <td>The pizzeria @ Cosmo was over priced for the q...</td>\n",
       "      <td>[The, pizzeria, @, Cosmo, was, over, priced, f...</td>\n",
       "    </tr>\n",
       "  </tbody>\n",
       "</table>\n",
       "</div>"
      ],
      "text/plain": [
       "                                                text  \\\n",
       "0                                 The pizza was okay   \n",
       "1                              Not the best I've had   \n",
       "2       I prefer Biaggio's on Flamingo / Fort Apache   \n",
       "3  The chef there can make a MUCH better NY style...   \n",
       "4  The pizzeria @ Cosmo was over priced for the q...   \n",
       "\n",
       "                                              tokens  \n",
       "0                            [The, pizza, was, okay]  \n",
       "1                      [Not, the, best, I, 've, had]  \n",
       "2  [I, prefer, Biaggio, 's, on, Flamingo, /, Fort...  \n",
       "3  [The, chef, there, can, make, a, MUCH, better,...  \n",
       "4  [The, pizzeria, @, Cosmo, was, over, priced, f...  "
      ]
     },
     "execution_count": 70,
     "metadata": {},
     "output_type": "execute_result"
    }
   ],
   "source": [
    "#nltk.download('punkt')\n",
    "token_list = []\n",
    "for index,row in review_text.iterrows():\n",
    "    text = row['text']\n",
    "    tokens = nltk.word_tokenize(text)\n",
    "    token_list.append([tokens])\n",
    "    #print(token_list)\n",
    "token_col = pd.DataFrame(token_list, columns=['tokens'])\n",
    "#print(token_list)\n",
    "#token_col.head()\n",
    "review_text = pd.concat([review_text, token_col], axis=1)\n",
    "review_text.head()"
   ]
  },
  {
   "cell_type": "markdown",
   "metadata": {},
   "source": [
    "# 3.1 POS Tagging"
   ]
  },
  {
   "cell_type": "markdown",
   "metadata": {},
   "source": [
    "## Stopword removal and conversion to lowercase\n",
    "### (not needed)"
   ]
  },
  {
   "cell_type": "code",
   "execution_count": 71,
   "metadata": {},
   "outputs": [
    {
     "data": {
      "text/html": [
       "<div>\n",
       "<style scoped>\n",
       "    .dataframe tbody tr th:only-of-type {\n",
       "        vertical-align: middle;\n",
       "    }\n",
       "\n",
       "    .dataframe tbody tr th {\n",
       "        vertical-align: top;\n",
       "    }\n",
       "\n",
       "    .dataframe thead th {\n",
       "        text-align: right;\n",
       "    }\n",
       "</style>\n",
       "<table border=\"1\" class=\"dataframe\">\n",
       "  <thead>\n",
       "    <tr style=\"text-align: right;\">\n",
       "      <th></th>\n",
       "      <th>text</th>\n",
       "      <th>tokens</th>\n",
       "      <th>filtered_tokens</th>\n",
       "    </tr>\n",
       "  </thead>\n",
       "  <tbody>\n",
       "    <tr>\n",
       "      <th>0</th>\n",
       "      <td>The pizza was okay</td>\n",
       "      <td>[The, pizza, was, okay]</td>\n",
       "      <td>[the, pizza, was, okay]</td>\n",
       "    </tr>\n",
       "    <tr>\n",
       "      <th>1</th>\n",
       "      <td>Not the best I've had</td>\n",
       "      <td>[Not, the, best, I, 've, had]</td>\n",
       "      <td>[not, the, best, i, 've, had]</td>\n",
       "    </tr>\n",
       "    <tr>\n",
       "      <th>2</th>\n",
       "      <td>I prefer Biaggio's on Flamingo / Fort Apache</td>\n",
       "      <td>[I, prefer, Biaggio, 's, on, Flamingo, /, Fort...</td>\n",
       "      <td>[i, prefer, biaggio, 's, on, flamingo, /, fort...</td>\n",
       "    </tr>\n",
       "    <tr>\n",
       "      <th>3</th>\n",
       "      <td>The chef there can make a MUCH better NY style...</td>\n",
       "      <td>[The, chef, there, can, make, a, MUCH, better,...</td>\n",
       "      <td>[the, chef, there, can, make, a, much, better,...</td>\n",
       "    </tr>\n",
       "    <tr>\n",
       "      <th>4</th>\n",
       "      <td>The pizzeria @ Cosmo was over priced for the q...</td>\n",
       "      <td>[The, pizzeria, @, Cosmo, was, over, priced, f...</td>\n",
       "      <td>[the, pizzeria, @, cosmo, was, over, priced, f...</td>\n",
       "    </tr>\n",
       "  </tbody>\n",
       "</table>\n",
       "</div>"
      ],
      "text/plain": [
       "                                                text  \\\n",
       "0                                 The pizza was okay   \n",
       "1                              Not the best I've had   \n",
       "2       I prefer Biaggio's on Flamingo / Fort Apache   \n",
       "3  The chef there can make a MUCH better NY style...   \n",
       "4  The pizzeria @ Cosmo was over priced for the q...   \n",
       "\n",
       "                                              tokens  \\\n",
       "0                            [The, pizza, was, okay]   \n",
       "1                      [Not, the, best, I, 've, had]   \n",
       "2  [I, prefer, Biaggio, 's, on, Flamingo, /, Fort...   \n",
       "3  [The, chef, there, can, make, a, MUCH, better,...   \n",
       "4  [The, pizzeria, @, Cosmo, was, over, priced, f...   \n",
       "\n",
       "                                     filtered_tokens  \n",
       "0                            [the, pizza, was, okay]  \n",
       "1                      [not, the, best, i, 've, had]  \n",
       "2  [i, prefer, biaggio, 's, on, flamingo, /, fort...  \n",
       "3  [the, chef, there, can, make, a, much, better,...  \n",
       "4  [the, pizzeria, @, cosmo, was, over, priced, f...  "
      ]
     },
     "execution_count": 71,
     "metadata": {},
     "output_type": "execute_result"
    }
   ],
   "source": [
    "'''#nltk.download('stopwords')\n",
    "from nltk.corpus import stopwords\n",
    "stop_words = set(stopwords.words('english')) \n",
    "ftext = []\n",
    "for index,row in review_text.iterrows():\n",
    "    tokens = row['tokens']\n",
    "    filtered_text = [w.lower() for w in tokens]#if not w in stop_words] \n",
    "    ftext.append([filtered_text])\n",
    "filtered_col = pd.DataFrame(ftext, columns=['filtered_tokens'])\n",
    "review_text = pd.concat([review_text, filtered_col], axis=1)\n",
    "review_text.head()'''"
   ]
  },
  {
   "cell_type": "markdown",
   "metadata": {},
   "source": [
    "## Tagging using upenn tagset"
   ]
  },
  {
   "cell_type": "code",
   "execution_count": 72,
   "metadata": {},
   "outputs": [
    {
     "data": {
      "text/html": [
       "<div>\n",
       "<style scoped>\n",
       "    .dataframe tbody tr th:only-of-type {\n",
       "        vertical-align: middle;\n",
       "    }\n",
       "\n",
       "    .dataframe tbody tr th {\n",
       "        vertical-align: top;\n",
       "    }\n",
       "\n",
       "    .dataframe thead th {\n",
       "        text-align: right;\n",
       "    }\n",
       "</style>\n",
       "<table border=\"1\" class=\"dataframe\">\n",
       "  <thead>\n",
       "    <tr style=\"text-align: right;\">\n",
       "      <th></th>\n",
       "      <th>text</th>\n",
       "      <th>tokens</th>\n",
       "      <th>filtered_tokens</th>\n",
       "      <th>tagged_tokens</th>\n",
       "    </tr>\n",
       "  </thead>\n",
       "  <tbody>\n",
       "    <tr>\n",
       "      <th>0</th>\n",
       "      <td>The pizza was okay</td>\n",
       "      <td>[The, pizza, was, okay]</td>\n",
       "      <td>[the, pizza, was, okay]</td>\n",
       "      <td>[(the, DT), (pizza, NN), (was, VBD), (okay, JJ)]</td>\n",
       "    </tr>\n",
       "    <tr>\n",
       "      <th>1</th>\n",
       "      <td>Not the best I've had</td>\n",
       "      <td>[Not, the, best, I, 've, had]</td>\n",
       "      <td>[not, the, best, i, 've, had]</td>\n",
       "      <td>[(not, RB), (the, DT), (best, JJS), (i, NN), (...</td>\n",
       "    </tr>\n",
       "    <tr>\n",
       "      <th>2</th>\n",
       "      <td>I prefer Biaggio's on Flamingo / Fort Apache</td>\n",
       "      <td>[I, prefer, Biaggio, 's, on, Flamingo, /, Fort...</td>\n",
       "      <td>[i, prefer, biaggio, 's, on, flamingo, /, fort...</td>\n",
       "      <td>[(i, NN), (prefer, VBP), (biaggio, NN), ('s, P...</td>\n",
       "    </tr>\n",
       "    <tr>\n",
       "      <th>3</th>\n",
       "      <td>The chef there can make a MUCH better NY style...</td>\n",
       "      <td>[The, chef, there, can, make, a, MUCH, better,...</td>\n",
       "      <td>[the, chef, there, can, make, a, much, better,...</td>\n",
       "      <td>[(the, DT), (chef, NN), (there, EX), (can, MD)...</td>\n",
       "    </tr>\n",
       "    <tr>\n",
       "      <th>4</th>\n",
       "      <td>The pizzeria @ Cosmo was over priced for the q...</td>\n",
       "      <td>[The, pizzeria, @, Cosmo, was, over, priced, f...</td>\n",
       "      <td>[the, pizzeria, @, cosmo, was, over, priced, f...</td>\n",
       "      <td>[(the, DT), (pizzeria, NN), (@, NNP), (cosmo, ...</td>\n",
       "    </tr>\n",
       "  </tbody>\n",
       "</table>\n",
       "</div>"
      ],
      "text/plain": [
       "                                                text  \\\n",
       "0                                 The pizza was okay   \n",
       "1                              Not the best I've had   \n",
       "2       I prefer Biaggio's on Flamingo / Fort Apache   \n",
       "3  The chef there can make a MUCH better NY style...   \n",
       "4  The pizzeria @ Cosmo was over priced for the q...   \n",
       "\n",
       "                                              tokens  \\\n",
       "0                            [The, pizza, was, okay]   \n",
       "1                      [Not, the, best, I, 've, had]   \n",
       "2  [I, prefer, Biaggio, 's, on, Flamingo, /, Fort...   \n",
       "3  [The, chef, there, can, make, a, MUCH, better,...   \n",
       "4  [The, pizzeria, @, Cosmo, was, over, priced, f...   \n",
       "\n",
       "                                     filtered_tokens  \\\n",
       "0                            [the, pizza, was, okay]   \n",
       "1                      [not, the, best, i, 've, had]   \n",
       "2  [i, prefer, biaggio, 's, on, flamingo, /, fort...   \n",
       "3  [the, chef, there, can, make, a, much, better,...   \n",
       "4  [the, pizzeria, @, cosmo, was, over, priced, f...   \n",
       "\n",
       "                                       tagged_tokens  \n",
       "0   [(the, DT), (pizza, NN), (was, VBD), (okay, JJ)]  \n",
       "1  [(not, RB), (the, DT), (best, JJS), (i, NN), (...  \n",
       "2  [(i, NN), (prefer, VBP), (biaggio, NN), ('s, P...  \n",
       "3  [(the, DT), (chef, NN), (there, EX), (can, MD)...  \n",
       "4  [(the, DT), (pizzeria, NN), (@, NNP), (cosmo, ...  "
      ]
     },
     "execution_count": 72,
     "metadata": {},
     "output_type": "execute_result"
    }
   ],
   "source": [
    "#nltk.download('averaged_perceptron_tagger')\n",
    "ttext = []\n",
    "for index,row in review_text.iterrows():\n",
    "    filtered_text = row['filtered_tokens']\n",
    "    tagged_text = nltk.pos_tag(filtered_text) \n",
    "    ttext.append([tagged_text])\n",
    "tagged_col = pd.DataFrame(ttext, columns=['tagged_tokens'])\n",
    "review_text = pd.concat([review_text, tagged_col], axis=1)\n",
    "review_text.head()"
   ]
  },
  {
   "cell_type": "code",
   "execution_count": 9,
   "metadata": {},
   "outputs": [
    {
     "name": "stdout",
     "output_type": "stream",
     "text": [
      "NN: noun, common, singular or mass\n",
      "    common-carrier cabbage knuckle-duster Casino afghan shed thermostat\n",
      "    investment slide humour falloff slick wind hyena override subhumanity\n",
      "    machinist ...\n"
     ]
    }
   ],
   "source": [
    "#nltk.download('tagsets')\n",
    "#nltk.help.upenn_tagset('NN')"
   ]
  },
  {
   "cell_type": "markdown",
   "metadata": {},
   "source": [
    "## Noun / noun phrase filtering"
   ]
  },
  {
   "cell_type": "code",
   "execution_count": 73,
   "metadata": {},
   "outputs": [
    {
     "data": {
      "text/html": [
       "<div>\n",
       "<style scoped>\n",
       "    .dataframe tbody tr th:only-of-type {\n",
       "        vertical-align: middle;\n",
       "    }\n",
       "\n",
       "    .dataframe tbody tr th {\n",
       "        vertical-align: top;\n",
       "    }\n",
       "\n",
       "    .dataframe thead th {\n",
       "        text-align: right;\n",
       "    }\n",
       "</style>\n",
       "<table border=\"1\" class=\"dataframe\">\n",
       "  <thead>\n",
       "    <tr style=\"text-align: right;\">\n",
       "      <th></th>\n",
       "      <th>text</th>\n",
       "      <th>tokens</th>\n",
       "      <th>filtered_tokens</th>\n",
       "      <th>tagged_tokens</th>\n",
       "      <th>nouns</th>\n",
       "    </tr>\n",
       "  </thead>\n",
       "  <tbody>\n",
       "    <tr>\n",
       "      <th>0</th>\n",
       "      <td>The pizza was okay</td>\n",
       "      <td>[The, pizza, was, okay]</td>\n",
       "      <td>[the, pizza, was, okay]</td>\n",
       "      <td>[(the, DT), (pizza, NN), (was, VBD), (okay, JJ)]</td>\n",
       "      <td>[pizza]</td>\n",
       "    </tr>\n",
       "    <tr>\n",
       "      <th>1</th>\n",
       "      <td>Not the best I've had</td>\n",
       "      <td>[Not, the, best, I, 've, had]</td>\n",
       "      <td>[not, the, best, i, 've, had]</td>\n",
       "      <td>[(not, RB), (the, DT), (best, JJS), (i, NN), (...</td>\n",
       "      <td>[i]</td>\n",
       "    </tr>\n",
       "    <tr>\n",
       "      <th>2</th>\n",
       "      <td>I prefer Biaggio's on Flamingo / Fort Apache</td>\n",
       "      <td>[I, prefer, Biaggio, 's, on, Flamingo, /, Fort...</td>\n",
       "      <td>[i, prefer, biaggio, 's, on, flamingo, /, fort...</td>\n",
       "      <td>[(i, NN), (prefer, VBP), (biaggio, NN), ('s, P...</td>\n",
       "      <td>[i, biaggio, flamingo, /, fort, apache]</td>\n",
       "    </tr>\n",
       "    <tr>\n",
       "      <th>3</th>\n",
       "      <td>The chef there can make a MUCH better NY style...</td>\n",
       "      <td>[The, chef, there, can, make, a, MUCH, better,...</td>\n",
       "      <td>[the, chef, there, can, make, a, much, better,...</td>\n",
       "      <td>[(the, DT), (chef, NN), (there, EX), (can, MD)...</td>\n",
       "      <td>[chef, style, pizza]</td>\n",
       "    </tr>\n",
       "    <tr>\n",
       "      <th>4</th>\n",
       "      <td>The pizzeria @ Cosmo was over priced for the q...</td>\n",
       "      <td>[The, pizzeria, @, Cosmo, was, over, priced, f...</td>\n",
       "      <td>[the, pizzeria, @, cosmo, was, over, priced, f...</td>\n",
       "      <td>[(the, DT), (pizzeria, NN), (@, NNP), (cosmo, ...</td>\n",
       "      <td>[pizzeria, @, cosmo, quality, lack, personalit...</td>\n",
       "    </tr>\n",
       "  </tbody>\n",
       "</table>\n",
       "</div>"
      ],
      "text/plain": [
       "                                                text  \\\n",
       "0                                 The pizza was okay   \n",
       "1                              Not the best I've had   \n",
       "2       I prefer Biaggio's on Flamingo / Fort Apache   \n",
       "3  The chef there can make a MUCH better NY style...   \n",
       "4  The pizzeria @ Cosmo was over priced for the q...   \n",
       "\n",
       "                                              tokens  \\\n",
       "0                            [The, pizza, was, okay]   \n",
       "1                      [Not, the, best, I, 've, had]   \n",
       "2  [I, prefer, Biaggio, 's, on, Flamingo, /, Fort...   \n",
       "3  [The, chef, there, can, make, a, MUCH, better,...   \n",
       "4  [The, pizzeria, @, Cosmo, was, over, priced, f...   \n",
       "\n",
       "                                     filtered_tokens  \\\n",
       "0                            [the, pizza, was, okay]   \n",
       "1                      [not, the, best, i, 've, had]   \n",
       "2  [i, prefer, biaggio, 's, on, flamingo, /, fort...   \n",
       "3  [the, chef, there, can, make, a, much, better,...   \n",
       "4  [the, pizzeria, @, cosmo, was, over, priced, f...   \n",
       "\n",
       "                                       tagged_tokens  \\\n",
       "0   [(the, DT), (pizza, NN), (was, VBD), (okay, JJ)]   \n",
       "1  [(not, RB), (the, DT), (best, JJS), (i, NN), (...   \n",
       "2  [(i, NN), (prefer, VBP), (biaggio, NN), ('s, P...   \n",
       "3  [(the, DT), (chef, NN), (there, EX), (can, MD)...   \n",
       "4  [(the, DT), (pizzeria, NN), (@, NNP), (cosmo, ...   \n",
       "\n",
       "                                               nouns  \n",
       "0                                            [pizza]  \n",
       "1                                                [i]  \n",
       "2            [i, biaggio, flamingo, /, fort, apache]  \n",
       "3                               [chef, style, pizza]  \n",
       "4  [pizzeria, @, cosmo, quality, lack, personalit...  "
      ]
     },
     "execution_count": 73,
     "metadata": {},
     "output_type": "execute_result"
    }
   ],
   "source": [
    "ntext = []\n",
    "for index,row in review_text.iterrows():\n",
    "    tagged_text = row['tagged_tokens']\n",
    "    nouns = []\n",
    "    for tt in tagged_text:\n",
    "        tag = tt[1]\n",
    "        if tag in ['NN','NNS','NNP','NNPS']:\n",
    "            nouns.append(tt[0])\n",
    "    ntext.append([nouns])\n",
    "noun_col = pd.DataFrame(ntext, columns=['nouns'])\n",
    "noun_col\n",
    "review_text = pd.concat([review_text, noun_col], axis=1)\n",
    "review_text.head()"
   ]
  },
  {
   "cell_type": "markdown",
   "metadata": {},
   "source": [
    "## Stemming \n",
    "### (not including in procedure)"
   ]
  },
  {
   "cell_type": "code",
   "execution_count": 11,
   "metadata": {},
   "outputs": [
    {
     "name": "stdout",
     "output_type": "stream",
     "text": [
      "pizza\t:\tpizza\n",
      "okay\t:\tokay\n",
      "Biaggio\t:\tbiaggio\n",
      "Flamingo\t:\tflamingo\n",
      "/\t:\t/\n",
      "Fort\t:\tfort\n",
      "Apache\t:\tapach\n",
      "chef\t:\tchef\n",
      "MUCH\t:\tmuch\n",
      "NY\t:\tNY\n",
      "style\t:\tstyle\n",
      "pizza\t:\tpizza\n",
      "pizzeria\t:\tpizzeria\n",
      "@\t:\t@\n",
      "Cosmo\t:\tcosmo\n",
      "quality\t:\tqualiti\n",
      "lack\t:\tlack\n",
      "personality\t:\tperson\n",
      "food\t:\tfood\n",
      "Biaggio\t:\tbiaggio\n",
      "youre\t:\tyour\n",
      "family\t:\tfamili\n",
      "home\t:\thome\n",
      "recipes\t:\trecip\n",
      "people\t:\tpeopl\n",
      "CARE\t:\tcare\n",
      "food\t:\tfood\n",
      "casino\t:\tcasino\n"
     ]
    }
   ],
   "source": [
    "'''from nltk.stem import PorterStemmer\n",
    "ps = PorterStemmer()\n",
    "for w in nouns:\n",
    "    print(w + '\\t:\\t' + ps.stem(w))'''"
   ]
  },
  {
   "cell_type": "markdown",
   "metadata": {},
   "source": [
    "## Fuzzy matching (example)\n",
    "### (not including in procedure)"
   ]
  },
  {
   "cell_type": "code",
   "execution_count": 12,
   "metadata": {},
   "outputs": [
    {
     "data": {
      "text/plain": [
       "('Barack H Obama', 95)"
      ]
     },
     "execution_count": 12,
     "metadata": {},
     "output_type": "execute_result"
    }
   ],
   "source": [
    "'''from fuzzywuzzy import fuzz\n",
    "from fuzzywuzzy import process\n",
    "query = 'Barack Obama'\n",
    "choices = ['Barack H Obama', 'Barack H. Obama', 'B. Obama']\n",
    "# Get a list of matches ordered by score, default limit to 5\n",
    "process.extract(query, choices)\n",
    "# [('Barack H Obama', 95), ('Barack H. Obama', 95), ('B. Obama', 85)]\n",
    " \n",
    "# If we want only the top one\n",
    "process.extractOne(query, choices)\n",
    "# ('Barack H Obama', 95)'''"
   ]
  },
  {
   "cell_type": "markdown",
   "metadata": {},
   "source": [
    "## Writing processed data to CSV"
   ]
  },
  {
   "cell_type": "code",
   "execution_count": 40,
   "metadata": {},
   "outputs": [],
   "source": [
    "review_text.to_csv('review_text.csv')"
   ]
  },
  {
   "cell_type": "markdown",
   "metadata": {},
   "source": [
    "## Running additional noun filtering\n",
    "### (not needed)"
   ]
  },
  {
   "cell_type": "code",
   "execution_count": 74,
   "metadata": {},
   "outputs": [
    {
     "data": {
      "text/html": [
       "<div>\n",
       "<style scoped>\n",
       "    .dataframe tbody tr th:only-of-type {\n",
       "        vertical-align: middle;\n",
       "    }\n",
       "\n",
       "    .dataframe tbody tr th {\n",
       "        vertical-align: top;\n",
       "    }\n",
       "\n",
       "    .dataframe thead th {\n",
       "        text-align: right;\n",
       "    }\n",
       "</style>\n",
       "<table border=\"1\" class=\"dataframe\">\n",
       "  <thead>\n",
       "    <tr style=\"text-align: right;\">\n",
       "      <th></th>\n",
       "      <th>text</th>\n",
       "      <th>tokens</th>\n",
       "      <th>filtered_tokens</th>\n",
       "      <th>tagged_tokens</th>\n",
       "      <th>nouns</th>\n",
       "      <th>tagged_noun_tokens</th>\n",
       "    </tr>\n",
       "  </thead>\n",
       "  <tbody>\n",
       "    <tr>\n",
       "      <th>0</th>\n",
       "      <td>The pizza was okay</td>\n",
       "      <td>[The, pizza, was, okay]</td>\n",
       "      <td>[the, pizza, was, okay]</td>\n",
       "      <td>[(the, DT), (pizza, NN), (was, VBD), (okay, JJ)]</td>\n",
       "      <td>[pizza]</td>\n",
       "      <td>[(pizza, NN)]</td>\n",
       "    </tr>\n",
       "    <tr>\n",
       "      <th>1</th>\n",
       "      <td>Not the best I've had</td>\n",
       "      <td>[Not, the, best, I, 've, had]</td>\n",
       "      <td>[not, the, best, i, 've, had]</td>\n",
       "      <td>[(not, RB), (the, DT), (best, JJS), (i, NN), (...</td>\n",
       "      <td>[i]</td>\n",
       "      <td>[(i, NN)]</td>\n",
       "    </tr>\n",
       "    <tr>\n",
       "      <th>2</th>\n",
       "      <td>I prefer Biaggio's on Flamingo / Fort Apache</td>\n",
       "      <td>[I, prefer, Biaggio, 's, on, Flamingo, /, Fort...</td>\n",
       "      <td>[i, prefer, biaggio, 's, on, flamingo, /, fort...</td>\n",
       "      <td>[(i, NN), (prefer, VBP), (biaggio, NN), ('s, P...</td>\n",
       "      <td>[i, biaggio, flamingo, /, fort, apache]</td>\n",
       "      <td>[(i, NN), (biaggio, VBP), (flamingo, NN), (/, ...</td>\n",
       "    </tr>\n",
       "    <tr>\n",
       "      <th>3</th>\n",
       "      <td>The chef there can make a MUCH better NY style...</td>\n",
       "      <td>[The, chef, there, can, make, a, MUCH, better,...</td>\n",
       "      <td>[the, chef, there, can, make, a, much, better,...</td>\n",
       "      <td>[(the, DT), (chef, NN), (there, EX), (can, MD)...</td>\n",
       "      <td>[chef, style, pizza]</td>\n",
       "      <td>[(chef, NN), (style, NN), (pizza, NN)]</td>\n",
       "    </tr>\n",
       "    <tr>\n",
       "      <th>4</th>\n",
       "      <td>The pizzeria @ Cosmo was over priced for the q...</td>\n",
       "      <td>[The, pizzeria, @, Cosmo, was, over, priced, f...</td>\n",
       "      <td>[the, pizzeria, @, cosmo, was, over, priced, f...</td>\n",
       "      <td>[(the, DT), (pizzeria, NN), (@, NNP), (cosmo, ...</td>\n",
       "      <td>[pizzeria, @, cosmo, quality, lack, personalit...</td>\n",
       "      <td>[(pizzeria, NNS), (@, VBP), (cosmo, JJ), (qual...</td>\n",
       "    </tr>\n",
       "  </tbody>\n",
       "</table>\n",
       "</div>"
      ],
      "text/plain": [
       "                                                text  \\\n",
       "0                                 The pizza was okay   \n",
       "1                              Not the best I've had   \n",
       "2       I prefer Biaggio's on Flamingo / Fort Apache   \n",
       "3  The chef there can make a MUCH better NY style...   \n",
       "4  The pizzeria @ Cosmo was over priced for the q...   \n",
       "\n",
       "                                              tokens  \\\n",
       "0                            [The, pizza, was, okay]   \n",
       "1                      [Not, the, best, I, 've, had]   \n",
       "2  [I, prefer, Biaggio, 's, on, Flamingo, /, Fort...   \n",
       "3  [The, chef, there, can, make, a, MUCH, better,...   \n",
       "4  [The, pizzeria, @, Cosmo, was, over, priced, f...   \n",
       "\n",
       "                                     filtered_tokens  \\\n",
       "0                            [the, pizza, was, okay]   \n",
       "1                      [not, the, best, i, 've, had]   \n",
       "2  [i, prefer, biaggio, 's, on, flamingo, /, fort...   \n",
       "3  [the, chef, there, can, make, a, much, better,...   \n",
       "4  [the, pizzeria, @, cosmo, was, over, priced, f...   \n",
       "\n",
       "                                       tagged_tokens  \\\n",
       "0   [(the, DT), (pizza, NN), (was, VBD), (okay, JJ)]   \n",
       "1  [(not, RB), (the, DT), (best, JJS), (i, NN), (...   \n",
       "2  [(i, NN), (prefer, VBP), (biaggio, NN), ('s, P...   \n",
       "3  [(the, DT), (chef, NN), (there, EX), (can, MD)...   \n",
       "4  [(the, DT), (pizzeria, NN), (@, NNP), (cosmo, ...   \n",
       "\n",
       "                                               nouns  \\\n",
       "0                                            [pizza]   \n",
       "1                                                [i]   \n",
       "2            [i, biaggio, flamingo, /, fort, apache]   \n",
       "3                               [chef, style, pizza]   \n",
       "4  [pizzeria, @, cosmo, quality, lack, personalit...   \n",
       "\n",
       "                                  tagged_noun_tokens  \n",
       "0                                      [(pizza, NN)]  \n",
       "1                                          [(i, NN)]  \n",
       "2  [(i, NN), (biaggio, VBP), (flamingo, NN), (/, ...  \n",
       "3             [(chef, NN), (style, NN), (pizza, NN)]  \n",
       "4  [(pizzeria, NNS), (@, VBP), (cosmo, JJ), (qual...  "
      ]
     },
     "execution_count": 74,
     "metadata": {},
     "output_type": "execute_result"
    }
   ],
   "source": [
    "'''ttext = []\n",
    "for index,row in review_text.iterrows():\n",
    "    filtered_text = row['nouns']\n",
    "    tagged_text = nltk.pos_tag(filtered_text) \n",
    "    ttext.append([tagged_text])\n",
    "tagged_col = pd.DataFrame(ttext, columns=['tagged_noun_tokens'])\n",
    "review_text = pd.concat([review_text, tagged_col], axis=1)\n",
    "review_text.head()'''"
   ]
  },
  {
   "cell_type": "code",
   "execution_count": 75,
   "metadata": {},
   "outputs": [
    {
     "data": {
      "text/html": [
       "<div>\n",
       "<style scoped>\n",
       "    .dataframe tbody tr th:only-of-type {\n",
       "        vertical-align: middle;\n",
       "    }\n",
       "\n",
       "    .dataframe tbody tr th {\n",
       "        vertical-align: top;\n",
       "    }\n",
       "\n",
       "    .dataframe thead th {\n",
       "        text-align: right;\n",
       "    }\n",
       "</style>\n",
       "<table border=\"1\" class=\"dataframe\">\n",
       "  <thead>\n",
       "    <tr style=\"text-align: right;\">\n",
       "      <th></th>\n",
       "      <th>text</th>\n",
       "      <th>tokens</th>\n",
       "      <th>filtered_tokens</th>\n",
       "      <th>tagged_tokens</th>\n",
       "      <th>nouns</th>\n",
       "      <th>tagged_noun_tokens</th>\n",
       "      <th>filtered_nouns</th>\n",
       "    </tr>\n",
       "  </thead>\n",
       "  <tbody>\n",
       "    <tr>\n",
       "      <th>0</th>\n",
       "      <td>The pizza was okay</td>\n",
       "      <td>[The, pizza, was, okay]</td>\n",
       "      <td>[the, pizza, was, okay]</td>\n",
       "      <td>[(the, DT), (pizza, NN), (was, VBD), (okay, JJ)]</td>\n",
       "      <td>[pizza]</td>\n",
       "      <td>[(pizza, NN)]</td>\n",
       "      <td>[pizza]</td>\n",
       "    </tr>\n",
       "    <tr>\n",
       "      <th>1</th>\n",
       "      <td>Not the best I've had</td>\n",
       "      <td>[Not, the, best, I, 've, had]</td>\n",
       "      <td>[not, the, best, i, 've, had]</td>\n",
       "      <td>[(not, RB), (the, DT), (best, JJS), (i, NN), (...</td>\n",
       "      <td>[i]</td>\n",
       "      <td>[(i, NN)]</td>\n",
       "      <td>[i]</td>\n",
       "    </tr>\n",
       "    <tr>\n",
       "      <th>2</th>\n",
       "      <td>I prefer Biaggio's on Flamingo / Fort Apache</td>\n",
       "      <td>[I, prefer, Biaggio, 's, on, Flamingo, /, Fort...</td>\n",
       "      <td>[i, prefer, biaggio, 's, on, flamingo, /, fort...</td>\n",
       "      <td>[(i, NN), (prefer, VBP), (biaggio, NN), ('s, P...</td>\n",
       "      <td>[i, biaggio, flamingo, /, fort, apache]</td>\n",
       "      <td>[(i, NN), (biaggio, VBP), (flamingo, NN), (/, ...</td>\n",
       "      <td>[i, flamingo, /, fort, apache]</td>\n",
       "    </tr>\n",
       "    <tr>\n",
       "      <th>3</th>\n",
       "      <td>The chef there can make a MUCH better NY style...</td>\n",
       "      <td>[The, chef, there, can, make, a, MUCH, better,...</td>\n",
       "      <td>[the, chef, there, can, make, a, much, better,...</td>\n",
       "      <td>[(the, DT), (chef, NN), (there, EX), (can, MD)...</td>\n",
       "      <td>[chef, style, pizza]</td>\n",
       "      <td>[(chef, NN), (style, NN), (pizza, NN)]</td>\n",
       "      <td>[chef, style, pizza]</td>\n",
       "    </tr>\n",
       "    <tr>\n",
       "      <th>4</th>\n",
       "      <td>The pizzeria @ Cosmo was over priced for the q...</td>\n",
       "      <td>[The, pizzeria, @, Cosmo, was, over, priced, f...</td>\n",
       "      <td>[the, pizzeria, @, cosmo, was, over, priced, f...</td>\n",
       "      <td>[(the, DT), (pizzeria, NN), (@, NNP), (cosmo, ...</td>\n",
       "      <td>[pizzeria, @, cosmo, quality, lack, personalit...</td>\n",
       "      <td>[(pizzeria, NNS), (@, VBP), (cosmo, JJ), (qual...</td>\n",
       "      <td>[pizzeria, quality, lack, personality, food]</td>\n",
       "    </tr>\n",
       "  </tbody>\n",
       "</table>\n",
       "</div>"
      ],
      "text/plain": [
       "                                                text  \\\n",
       "0                                 The pizza was okay   \n",
       "1                              Not the best I've had   \n",
       "2       I prefer Biaggio's on Flamingo / Fort Apache   \n",
       "3  The chef there can make a MUCH better NY style...   \n",
       "4  The pizzeria @ Cosmo was over priced for the q...   \n",
       "\n",
       "                                              tokens  \\\n",
       "0                            [The, pizza, was, okay]   \n",
       "1                      [Not, the, best, I, 've, had]   \n",
       "2  [I, prefer, Biaggio, 's, on, Flamingo, /, Fort...   \n",
       "3  [The, chef, there, can, make, a, MUCH, better,...   \n",
       "4  [The, pizzeria, @, Cosmo, was, over, priced, f...   \n",
       "\n",
       "                                     filtered_tokens  \\\n",
       "0                            [the, pizza, was, okay]   \n",
       "1                      [not, the, best, i, 've, had]   \n",
       "2  [i, prefer, biaggio, 's, on, flamingo, /, fort...   \n",
       "3  [the, chef, there, can, make, a, much, better,...   \n",
       "4  [the, pizzeria, @, cosmo, was, over, priced, f...   \n",
       "\n",
       "                                       tagged_tokens  \\\n",
       "0   [(the, DT), (pizza, NN), (was, VBD), (okay, JJ)]   \n",
       "1  [(not, RB), (the, DT), (best, JJS), (i, NN), (...   \n",
       "2  [(i, NN), (prefer, VBP), (biaggio, NN), ('s, P...   \n",
       "3  [(the, DT), (chef, NN), (there, EX), (can, MD)...   \n",
       "4  [(the, DT), (pizzeria, NN), (@, NNP), (cosmo, ...   \n",
       "\n",
       "                                               nouns  \\\n",
       "0                                            [pizza]   \n",
       "1                                                [i]   \n",
       "2            [i, biaggio, flamingo, /, fort, apache]   \n",
       "3                               [chef, style, pizza]   \n",
       "4  [pizzeria, @, cosmo, quality, lack, personalit...   \n",
       "\n",
       "                                  tagged_noun_tokens  \\\n",
       "0                                      [(pizza, NN)]   \n",
       "1                                          [(i, NN)]   \n",
       "2  [(i, NN), (biaggio, VBP), (flamingo, NN), (/, ...   \n",
       "3             [(chef, NN), (style, NN), (pizza, NN)]   \n",
       "4  [(pizzeria, NNS), (@, VBP), (cosmo, JJ), (qual...   \n",
       "\n",
       "                                 filtered_nouns  \n",
       "0                                       [pizza]  \n",
       "1                                           [i]  \n",
       "2                [i, flamingo, /, fort, apache]  \n",
       "3                          [chef, style, pizza]  \n",
       "4  [pizzeria, quality, lack, personality, food]  "
      ]
     },
     "execution_count": 75,
     "metadata": {},
     "output_type": "execute_result"
    }
   ],
   "source": [
    "'''ntext = []\n",
    "for index,row in review_text.iterrows():\n",
    "    tagged_text = row['tagged_noun_tokens']\n",
    "    nouns = []\n",
    "    for tt in tagged_text:\n",
    "        tag = tt[1]\n",
    "        if tag in ['NN','NNS','NNP','NNPS']:\n",
    "            nouns.append(tt[0])\n",
    "    ntext.append([nouns])\n",
    "noun_col = pd.DataFrame(ntext, columns=['filtered_nouns'])\n",
    "noun_col\n",
    "review_text = pd.concat([review_text, noun_col], axis=1)\n",
    "review_text.head()'''"
   ]
  },
  {
   "cell_type": "markdown",
   "metadata": {},
   "source": [
    "# 3.2 Frequent features identification"
   ]
  },
  {
   "cell_type": "code",
   "execution_count": 76,
   "metadata": {},
   "outputs": [
    {
     "data": {
      "text/plain": [
       "[['pizza'],\n",
       " ['i'],\n",
       " ['i', 'biaggio', 'flamingo', '/', 'fort', 'apache'],\n",
       " ['chef', 'style', 'pizza'],\n",
       " ['pizzeria', '@', 'cosmo', 'quality', 'lack', 'personality', 'food']]"
      ]
     },
     "execution_count": 76,
     "metadata": {},
     "output_type": "execute_result"
    }
   ],
   "source": [
    "filtered_nouns = review_text['nouns']\n",
    "filtered_nouns = filtered_nouns.tolist()\n",
    "filtered_nouns[0:5]"
   ]
  },
  {
   "cell_type": "code",
   "execution_count": 77,
   "metadata": {},
   "outputs": [
    {
     "name": "stdout",
     "output_type": "stream",
     "text": [
      "dict_keys([])\n"
     ]
    }
   ],
   "source": [
    "features = {}\n",
    "print(features.keys())\n",
    "for nouns in filtered_nouns:\n",
    "    keys = features.keys()\n",
    "    visited = []\n",
    "    for n in nouns:\n",
    "        if n not in visited:\n",
    "            if n in keys:\n",
    "                features[n] += 1\n",
    "            else:\n",
    "                features.update({n: 1})\n",
    "\n",
    "#features"
   ]
  },
  {
   "cell_type": "code",
   "execution_count": 62,
   "metadata": {},
   "outputs": [
    {
     "name": "stdout",
     "output_type": "stream",
     "text": [
      "1867\n"
     ]
    },
    {
     "data": {
      "text/plain": [
       "['pizza',\n",
       " 'floor',\n",
       " 'i',\n",
       " 'service',\n",
       " 'line',\n",
       " 'slices',\n",
       " 'slice',\n",
       " 'staff',\n",
       " 'style',\n",
       " 'people',\n",
       " 'crust',\n",
       " 'time',\n",
       " 'pie',\n",
       " 'place',\n",
       " 'order',\n",
       " 'strip',\n",
       " 'spot',\n",
       " 'hallway',\n",
       " 'cosmo',\n",
       " 'wait',\n",
       " 'pepperoni',\n",
       " 'way',\n",
       " 'sausage',\n",
       " 'food',\n",
       " 'eat',\n",
       " 'york',\n",
       " 'vegas',\n",
       " 'night',\n",
       " 'price']"
      ]
     },
     "execution_count": 62,
     "metadata": {},
     "output_type": "execute_result"
    }
   ],
   "source": [
    "frequent_ftr = []\n",
    "print(review_text['text'].count())\n",
    "threshold = int(review_text['text'].count() * 0.015)\n",
    "for k,v in features.items():\n",
    "    if v >= threshold:\n",
    "        frequent_ftr.append(k)\n",
    "frequent_ftr"
   ]
  },
  {
   "cell_type": "code",
   "execution_count": null,
   "metadata": {},
   "outputs": [],
   "source": []
  }
 ],
 "metadata": {
  "kernelspec": {
   "display_name": "Python 3",
   "language": "python",
   "name": "python3"
  },
  "language_info": {
   "codemirror_mode": {
    "name": "ipython",
    "version": 3
   },
   "file_extension": ".py",
   "mimetype": "text/x-python",
   "name": "python",
   "nbconvert_exporter": "python",
   "pygments_lexer": "ipython3",
   "version": "3.5.2"
  }
 },
 "nbformat": 4,
 "nbformat_minor": 2
}
