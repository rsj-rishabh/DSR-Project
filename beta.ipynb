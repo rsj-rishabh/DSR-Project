{
 "cells": [
  {
   "cell_type": "code",
   "execution_count": 1,
   "metadata": {},
   "outputs": [],
   "source": [
    "import pandas as pd\n",
    "import nltk\n",
    "import numpy as np"
   ]
  },
  {
   "cell_type": "markdown",
   "metadata": {},
   "source": [
    "# Get Data"
   ]
  },
  {
   "cell_type": "code",
   "execution_count": 41,
   "metadata": {},
   "outputs": [
    {
     "data": {
      "text/html": [
       "<div>\n",
       "<style scoped>\n",
       "    .dataframe tbody tr th:only-of-type {\n",
       "        vertical-align: middle;\n",
       "    }\n",
       "\n",
       "    .dataframe tbody tr th {\n",
       "        vertical-align: top;\n",
       "    }\n",
       "\n",
       "    .dataframe thead th {\n",
       "        text-align: right;\n",
       "    }\n",
       "</style>\n",
       "<table border=\"1\" class=\"dataframe\">\n",
       "  <thead>\n",
       "    <tr style=\"text-align: right;\">\n",
       "      <th></th>\n",
       "      <th>business_id</th>\n",
       "      <th>cool</th>\n",
       "      <th>date</th>\n",
       "      <th>funny</th>\n",
       "      <th>review_id</th>\n",
       "      <th>stars</th>\n",
       "      <th>text</th>\n",
       "      <th>useful</th>\n",
       "      <th>user_id</th>\n",
       "    </tr>\n",
       "  </thead>\n",
       "  <tbody>\n",
       "    <tr>\n",
       "      <th>0</th>\n",
       "      <td>iCQpiavjjPzJ5_3gPD5Ebg</td>\n",
       "      <td>0</td>\n",
       "      <td>2011-02-25</td>\n",
       "      <td>0</td>\n",
       "      <td>x7mDIiDB3jEiPGPHOmDzyw</td>\n",
       "      <td>2</td>\n",
       "      <td>The pizza was okay. Not the best I've had. I p...</td>\n",
       "      <td>0</td>\n",
       "      <td>msQe1u7Z_XuqjGoqhB0J5g</td>\n",
       "    </tr>\n",
       "  </tbody>\n",
       "</table>\n",
       "</div>"
      ],
      "text/plain": [
       "              business_id  cool       date  funny               review_id  \\\n",
       "0  iCQpiavjjPzJ5_3gPD5Ebg     0 2011-02-25      0  x7mDIiDB3jEiPGPHOmDzyw   \n",
       "\n",
       "   stars                                               text  useful  \\\n",
       "0      2  The pizza was okay. Not the best I've had. I p...       0   \n",
       "\n",
       "                  user_id  \n",
       "0  msQe1u7Z_XuqjGoqhB0J5g  "
      ]
     },
     "execution_count": 41,
     "metadata": {},
     "output_type": "execute_result"
    }
   ],
   "source": [
    "review_reader = pd.read_json('yelp_academic_dataset_review.json', chunksize=1, lines=True)\n",
    "i = 0\n",
    "business_data\n",
    "for chunk in review_reader:\n",
    "    #print(chunk)\n",
    "    business_data = chunk\n",
    "    i = i+1\n",
    "    if i==1:\n",
    "        break\n",
    "#business_data = pd.concat(df)\n",
    "#print(type(chunk))\n",
    "business_data"
   ]
  },
  {
   "cell_type": "code",
   "execution_count": 43,
   "metadata": {},
   "outputs": [
    {
     "data": {
      "text/plain": [
       "'iCQpiavjjPzJ5_3gPD5Ebg'"
      ]
     },
     "execution_count": 43,
     "metadata": {},
     "output_type": "execute_result"
    }
   ],
   "source": [
    "business_id = business_data['business_id']\n",
    "business_id = business_id[0]\n",
    "business_id"
   ]
  },
  {
   "cell_type": "code",
   "execution_count": 63,
   "metadata": {},
   "outputs": [],
   "source": [
    "review_reader = pd.read_json('yelp_academic_dataset_review.json', chunksize=1, lines=True)\n",
    "i = 0\n",
    "j = 0\n",
    "df = []\n",
    "for chunk in review_reader:\n",
    "    #for c in chunk:\n",
    "    if chunk['business_id'][j] == business_id:\n",
    "        #print(chunk['business_id'][j])\n",
    "        df.append(chunk)\n",
    "        i = i+1\n",
    "        if i==100:\n",
    "            break\n",
    "    j = j+1\n",
    "    #if j==10000:\n",
    "    #    break\n",
    "review_data = pd.concat(df)"
   ]
  },
  {
   "cell_type": "markdown",
   "metadata": {},
   "source": [
    "## Write data to json file"
   ]
  },
  {
   "cell_type": "code",
   "execution_count": 65,
   "metadata": {},
   "outputs": [],
   "source": [
    "#review_data.to_json('review_data.json')"
   ]
  },
  {
   "cell_type": "markdown",
   "metadata": {},
   "source": [
    "## Cleaning data"
   ]
  },
  {
   "cell_type": "code",
   "execution_count": 64,
   "metadata": {},
   "outputs": [
    {
     "name": "stdout",
     "output_type": "stream",
     "text": [
      "<class 'pandas.core.frame.DataFrame'>\n",
      "Int64Index: 100 entries, 0 to 244151\n",
      "Data columns (total 9 columns):\n",
      "business_id    100 non-null object\n",
      "cool           100 non-null int64\n",
      "date           100 non-null datetime64[ns]\n",
      "funny          100 non-null int64\n",
      "review_id      100 non-null object\n",
      "stars          100 non-null int64\n",
      "text           100 non-null object\n",
      "useful         100 non-null int64\n",
      "user_id        100 non-null object\n",
      "dtypes: datetime64[ns](1), int64(4), object(4)\n",
      "memory usage: 7.8+ KB\n"
     ]
    }
   ],
   "source": [
    "#review_data.head()\n",
    "review_data.info()"
   ]
  },
  {
   "cell_type": "code",
   "execution_count": 101,
   "metadata": {},
   "outputs": [
    {
     "data": {
      "text/html": [
       "<div>\n",
       "<style scoped>\n",
       "    .dataframe tbody tr th:only-of-type {\n",
       "        vertical-align: middle;\n",
       "    }\n",
       "\n",
       "    .dataframe tbody tr th {\n",
       "        vertical-align: top;\n",
       "    }\n",
       "\n",
       "    .dataframe thead th {\n",
       "        text-align: right;\n",
       "    }\n",
       "</style>\n",
       "<table border=\"1\" class=\"dataframe\">\n",
       "  <thead>\n",
       "    <tr style=\"text-align: right;\">\n",
       "      <th></th>\n",
       "      <th>review_id</th>\n",
       "      <th>text</th>\n",
       "    </tr>\n",
       "  </thead>\n",
       "  <tbody>\n",
       "    <tr>\n",
       "      <th>0</th>\n",
       "      <td>x7mDIiDB3jEiPGPHOmDzyw</td>\n",
       "      <td>The pizza was okay. Not the best I've had. I p...</td>\n",
       "    </tr>\n",
       "    <tr>\n",
       "      <th>788</th>\n",
       "      <td>VluIpojME0yKOcRKI5L0Iw</td>\n",
       "      <td>came here on Monday, no line. its good, but no...</td>\n",
       "    </tr>\n",
       "    <tr>\n",
       "      <th>3314</th>\n",
       "      <td>nsB9JAeghk0zOaSulSm9Yw</td>\n",
       "      <td>This place is truly a secret!  Its so hidden t...</td>\n",
       "    </tr>\n",
       "    <tr>\n",
       "      <th>6726</th>\n",
       "      <td>pcn01EMERpCpHEcoaohdEg</td>\n",
       "      <td>This SECRET  PIZZA was a secret for about 5 st...</td>\n",
       "    </tr>\n",
       "    <tr>\n",
       "      <th>8969</th>\n",
       "      <td>0mFtAPTmInbXHqDjX9eiOg</td>\n",
       "      <td>this is the BEST place to grab a quick slice o...</td>\n",
       "    </tr>\n",
       "  </tbody>\n",
       "</table>\n",
       "</div>"
      ],
      "text/plain": [
       "                   review_id  \\\n",
       "0     x7mDIiDB3jEiPGPHOmDzyw   \n",
       "788   VluIpojME0yKOcRKI5L0Iw   \n",
       "3314  nsB9JAeghk0zOaSulSm9Yw   \n",
       "6726  pcn01EMERpCpHEcoaohdEg   \n",
       "8969  0mFtAPTmInbXHqDjX9eiOg   \n",
       "\n",
       "                                                   text  \n",
       "0     The pizza was okay. Not the best I've had. I p...  \n",
       "788   came here on Monday, no line. its good, but no...  \n",
       "3314  This place is truly a secret!  Its so hidden t...  \n",
       "6726  This SECRET  PIZZA was a secret for about 5 st...  \n",
       "8969  this is the BEST place to grab a quick slice o...  "
      ]
     },
     "execution_count": 101,
     "metadata": {},
     "output_type": "execute_result"
    }
   ],
   "source": [
    "reviews = review_data.loc[:,['review_id','text']]\n",
    "reviews.head()"
   ]
  },
  {
   "cell_type": "code",
   "execution_count": 103,
   "metadata": {},
   "outputs": [
    {
     "data": {
      "text/html": [
       "<div>\n",
       "<style scoped>\n",
       "    .dataframe tbody tr th:only-of-type {\n",
       "        vertical-align: middle;\n",
       "    }\n",
       "\n",
       "    .dataframe tbody tr th {\n",
       "        vertical-align: top;\n",
       "    }\n",
       "\n",
       "    .dataframe thead th {\n",
       "        text-align: right;\n",
       "    }\n",
       "</style>\n",
       "<table border=\"1\" class=\"dataframe\">\n",
       "  <thead>\n",
       "    <tr style=\"text-align: right;\">\n",
       "      <th></th>\n",
       "      <th>review</th>\n",
       "    </tr>\n",
       "  </thead>\n",
       "  <tbody>\n",
       "    <tr>\n",
       "      <th>0</th>\n",
       "      <td>The pizza was okay</td>\n",
       "    </tr>\n",
       "    <tr>\n",
       "      <th>1</th>\n",
       "      <td>Not the best I've had</td>\n",
       "    </tr>\n",
       "    <tr>\n",
       "      <th>2</th>\n",
       "      <td>I prefer Biaggio's on Flamingo / Fort Apache</td>\n",
       "    </tr>\n",
       "    <tr>\n",
       "      <th>3</th>\n",
       "      <td>The chef there can make a MUCH better NY style...</td>\n",
       "    </tr>\n",
       "    <tr>\n",
       "      <th>4</th>\n",
       "      <td>The pizzeria @ Cosmo was over priced for the q...</td>\n",
       "    </tr>\n",
       "  </tbody>\n",
       "</table>\n",
       "</div>"
      ],
      "text/plain": [
       "                                              review\n",
       "0                                 The pizza was okay\n",
       "1                              Not the best I've had\n",
       "2       I prefer Biaggio's on Flamingo / Fort Apache\n",
       "3  The chef there can make a MUCH better NY style...\n",
       "4  The pizzeria @ Cosmo was over priced for the q..."
      ]
     },
     "execution_count": 103,
     "metadata": {},
     "output_type": "execute_result"
    }
   ],
   "source": [
    "txt = []\n",
    "for index,row in reviews.iterrows():\n",
    "    text = row['text']\n",
    "    text = text.split('. ')\n",
    "    txt.extend(text)\n",
    "txt\n",
    "review_text = pd.DataFrame(txt, columns=['review'])\n",
    "review_text.head()"
   ]
  },
  {
   "cell_type": "code",
   "execution_count": null,
   "metadata": {},
   "outputs": [],
   "source": []
  },
  {
   "cell_type": "markdown",
   "metadata": {},
   "source": [
    "# Tokenize"
   ]
  },
  {
   "cell_type": "code",
   "execution_count": 6,
   "metadata": {},
   "outputs": [
    {
     "name": "stdout",
     "output_type": "stream",
     "text": [
      "['The', 'pizza', 'was', 'okay', '.', 'Not', 'the', 'best', 'I', \"'ve\", 'had', '.', 'I', 'prefer', 'Biaggio', \"'s\", 'on', 'Flamingo', '/', 'Fort', 'Apache', '.', 'The', 'chef', 'there', 'can', 'make', 'a', 'MUCH', 'better', 'NY', 'style', 'pizza', '.', 'The', 'pizzeria', '@', 'Cosmo', 'was', 'over', 'priced', 'for', 'the', 'quality', 'and', 'lack', 'of', 'personality', 'in', 'the', 'food', '.', 'Biaggio', \"'s\", 'is', 'a', 'much', 'better', 'pick', 'if', 'youre', 'going', 'for', 'italian', '-', 'family', 'owned', ',', 'home', 'made', 'recipes', ',', 'people', 'that', 'actually', 'CARE', 'if', 'you', 'like', 'their', 'food', '.', 'You', 'dont', 'get', 'that', 'at', 'a', 'pizzeria', 'in', 'a', 'casino', '.', 'I', 'dont', 'care', 'what', 'you', 'say', '...']\n"
     ]
    }
   ],
   "source": [
    "#nltk.download('punkt')\n",
    "tokens = nltk.word_tokenize(text)\n",
    "print(tokens)"
   ]
  },
  {
   "cell_type": "markdown",
   "metadata": {},
   "source": [
    "# 3.1 POS Tagging"
   ]
  },
  {
   "cell_type": "markdown",
   "metadata": {},
   "source": [
    "## Stopword removal"
   ]
  },
  {
   "cell_type": "code",
   "execution_count": 7,
   "metadata": {},
   "outputs": [
    {
     "data": {
      "text/plain": [
       "['The',\n",
       " 'pizza',\n",
       " 'okay',\n",
       " '.',\n",
       " 'Not',\n",
       " 'best',\n",
       " 'I',\n",
       " \"'ve\",\n",
       " '.',\n",
       " 'I',\n",
       " 'prefer',\n",
       " 'Biaggio',\n",
       " \"'s\",\n",
       " 'Flamingo',\n",
       " '/',\n",
       " 'Fort',\n",
       " 'Apache',\n",
       " '.',\n",
       " 'The',\n",
       " 'chef',\n",
       " 'make',\n",
       " 'MUCH',\n",
       " 'better',\n",
       " 'NY',\n",
       " 'style',\n",
       " 'pizza',\n",
       " '.',\n",
       " 'The',\n",
       " 'pizzeria',\n",
       " '@',\n",
       " 'Cosmo',\n",
       " 'priced',\n",
       " 'quality',\n",
       " 'lack',\n",
       " 'personality',\n",
       " 'food',\n",
       " '.',\n",
       " 'Biaggio',\n",
       " \"'s\",\n",
       " 'much',\n",
       " 'better',\n",
       " 'pick',\n",
       " 'youre',\n",
       " 'going',\n",
       " 'italian',\n",
       " '-',\n",
       " 'family',\n",
       " 'owned',\n",
       " ',',\n",
       " 'home',\n",
       " 'made',\n",
       " 'recipes',\n",
       " ',',\n",
       " 'people',\n",
       " 'actually',\n",
       " 'CARE',\n",
       " 'like',\n",
       " 'food',\n",
       " '.',\n",
       " 'You',\n",
       " 'dont',\n",
       " 'get',\n",
       " 'pizzeria',\n",
       " 'casino',\n",
       " '.',\n",
       " 'I',\n",
       " 'dont',\n",
       " 'care',\n",
       " 'say',\n",
       " '...']"
      ]
     },
     "execution_count": 7,
     "metadata": {},
     "output_type": "execute_result"
    }
   ],
   "source": [
    "#nltk.download('stopwords')\n",
    "from nltk.corpus import stopwords\n",
    "stop_words = set(stopwords.words('english')) \n",
    "filtered_text = [w for w in tokens if not w in stop_words] \n",
    "filtered_text"
   ]
  },
  {
   "cell_type": "code",
   "execution_count": 8,
   "metadata": {},
   "outputs": [
    {
     "data": {
      "text/plain": [
       "[('The', 'DT'),\n",
       " ('pizza', 'NN'),\n",
       " ('okay', 'NN'),\n",
       " ('.', '.'),\n",
       " ('Not', 'RB'),\n",
       " ('best', 'JJS'),\n",
       " ('I', 'PRP'),\n",
       " (\"'ve\", 'VBP'),\n",
       " ('.', '.'),\n",
       " ('I', 'PRP'),\n",
       " ('prefer', 'VBP'),\n",
       " ('Biaggio', 'NNP'),\n",
       " (\"'s\", 'POS'),\n",
       " ('Flamingo', 'NNP'),\n",
       " ('/', 'NNP'),\n",
       " ('Fort', 'NNP'),\n",
       " ('Apache', 'NNP'),\n",
       " ('.', '.'),\n",
       " ('The', 'DT'),\n",
       " ('chef', 'NN'),\n",
       " ('make', 'VBP'),\n",
       " ('MUCH', 'NNP'),\n",
       " ('better', 'JJR'),\n",
       " ('NY', 'NNP'),\n",
       " ('style', 'NN'),\n",
       " ('pizza', 'NN'),\n",
       " ('.', '.'),\n",
       " ('The', 'DT'),\n",
       " ('pizzeria', 'NN'),\n",
       " ('@', 'NNP'),\n",
       " ('Cosmo', 'NNP'),\n",
       " ('priced', 'VBN'),\n",
       " ('quality', 'NN'),\n",
       " ('lack', 'NN'),\n",
       " ('personality', 'NN'),\n",
       " ('food', 'NN'),\n",
       " ('.', '.'),\n",
       " ('Biaggio', 'NNP'),\n",
       " (\"'s\", 'POS'),\n",
       " ('much', 'JJ'),\n",
       " ('better', 'RBR'),\n",
       " ('pick', 'JJ'),\n",
       " ('youre', 'NN'),\n",
       " ('going', 'VBG'),\n",
       " ('italian', 'JJ'),\n",
       " ('-', ':'),\n",
       " ('family', 'NN'),\n",
       " ('owned', 'VBD'),\n",
       " (',', ','),\n",
       " ('home', 'NN'),\n",
       " ('made', 'VBD'),\n",
       " ('recipes', 'NNS'),\n",
       " (',', ','),\n",
       " ('people', 'NNS'),\n",
       " ('actually', 'RB'),\n",
       " ('CARE', 'NNP'),\n",
       " ('like', 'IN'),\n",
       " ('food', 'NN'),\n",
       " ('.', '.'),\n",
       " ('You', 'PRP'),\n",
       " ('dont', 'VBP'),\n",
       " ('get', 'VB'),\n",
       " ('pizzeria', 'JJ'),\n",
       " ('casino', 'NN'),\n",
       " ('.', '.'),\n",
       " ('I', 'PRP'),\n",
       " ('dont', 'VBP'),\n",
       " ('care', 'JJ'),\n",
       " ('say', 'VBP'),\n",
       " ('...', ':')]"
      ]
     },
     "execution_count": 8,
     "metadata": {},
     "output_type": "execute_result"
    }
   ],
   "source": [
    "#nltk.download('averaged_perceptron_tagger')\n",
    "tagged_text = nltk.pos_tag(filtered_text)\n",
    "tagged_text"
   ]
  },
  {
   "cell_type": "code",
   "execution_count": 9,
   "metadata": {},
   "outputs": [
    {
     "name": "stdout",
     "output_type": "stream",
     "text": [
      "NN: noun, common, singular or mass\n",
      "    common-carrier cabbage knuckle-duster Casino afghan shed thermostat\n",
      "    investment slide humour falloff slick wind hyena override subhumanity\n",
      "    machinist ...\n"
     ]
    }
   ],
   "source": [
    "#nltk.download('tagsets')\n",
    "nltk.help.upenn_tagset('NN')"
   ]
  },
  {
   "cell_type": "markdown",
   "metadata": {},
   "source": [
    "## Noun / noun phrase filtering"
   ]
  },
  {
   "cell_type": "code",
   "execution_count": 10,
   "metadata": {},
   "outputs": [
    {
     "data": {
      "text/plain": [
       "['pizza',\n",
       " 'okay',\n",
       " 'Biaggio',\n",
       " 'Flamingo',\n",
       " '/',\n",
       " 'Fort',\n",
       " 'Apache',\n",
       " 'chef',\n",
       " 'MUCH',\n",
       " 'NY',\n",
       " 'style',\n",
       " 'pizza',\n",
       " 'pizzeria',\n",
       " '@',\n",
       " 'Cosmo',\n",
       " 'quality',\n",
       " 'lack',\n",
       " 'personality',\n",
       " 'food',\n",
       " 'Biaggio',\n",
       " 'youre',\n",
       " 'family',\n",
       " 'home',\n",
       " 'recipes',\n",
       " 'people',\n",
       " 'CARE',\n",
       " 'food',\n",
       " 'casino']"
      ]
     },
     "execution_count": 10,
     "metadata": {},
     "output_type": "execute_result"
    }
   ],
   "source": [
    "nouns = []\n",
    "for tt in tagged_text:\n",
    "    tag = tt[1]\n",
    "    if tag in ['NN','NNP','NNS','NNPS']:\n",
    "        nouns.append(tt[0])\n",
    "nouns"
   ]
  },
  {
   "cell_type": "markdown",
   "metadata": {},
   "source": [
    "## Stemming"
   ]
  },
  {
   "cell_type": "code",
   "execution_count": 11,
   "metadata": {},
   "outputs": [
    {
     "name": "stdout",
     "output_type": "stream",
     "text": [
      "pizza\t:\tpizza\n",
      "okay\t:\tokay\n",
      "Biaggio\t:\tbiaggio\n",
      "Flamingo\t:\tflamingo\n",
      "/\t:\t/\n",
      "Fort\t:\tfort\n",
      "Apache\t:\tapach\n",
      "chef\t:\tchef\n",
      "MUCH\t:\tmuch\n",
      "NY\t:\tNY\n",
      "style\t:\tstyle\n",
      "pizza\t:\tpizza\n",
      "pizzeria\t:\tpizzeria\n",
      "@\t:\t@\n",
      "Cosmo\t:\tcosmo\n",
      "quality\t:\tqualiti\n",
      "lack\t:\tlack\n",
      "personality\t:\tperson\n",
      "food\t:\tfood\n",
      "Biaggio\t:\tbiaggio\n",
      "youre\t:\tyour\n",
      "family\t:\tfamili\n",
      "home\t:\thome\n",
      "recipes\t:\trecip\n",
      "people\t:\tpeopl\n",
      "CARE\t:\tcare\n",
      "food\t:\tfood\n",
      "casino\t:\tcasino\n"
     ]
    }
   ],
   "source": [
    "from nltk.stem import PorterStemmer\n",
    "ps = PorterStemmer()\n",
    "for w in nouns:\n",
    "    print(w + '\\t:\\t' + ps.stem(w))"
   ]
  },
  {
   "cell_type": "markdown",
   "metadata": {},
   "source": [
    "## Fuzzy matching"
   ]
  },
  {
   "cell_type": "code",
   "execution_count": 12,
   "metadata": {},
   "outputs": [
    {
     "data": {
      "text/plain": [
       "('Barack H Obama', 95)"
      ]
     },
     "execution_count": 12,
     "metadata": {},
     "output_type": "execute_result"
    }
   ],
   "source": [
    "from fuzzywuzzy import fuzz\n",
    "from fuzzywuzzy import process\n",
    "query = 'Barack Obama'\n",
    "choices = ['Barack H Obama', 'Barack H. Obama', 'B. Obama']\n",
    "# Get a list of matches ordered by score, default limit to 5\n",
    "process.extract(query, choices)\n",
    "# [('Barack H Obama', 95), ('Barack H. Obama', 95), ('B. Obama', 85)]\n",
    " \n",
    "# If we want only the top one\n",
    "process.extractOne(query, choices)\n",
    "# ('Barack H Obama', 95)"
   ]
  },
  {
   "cell_type": "markdown",
   "metadata": {},
   "source": [
    "# 3.2 Frequent features identification"
   ]
  },
  {
   "cell_type": "code",
   "execution_count": null,
   "metadata": {},
   "outputs": [],
   "source": []
  }
 ],
 "metadata": {
  "kernelspec": {
   "display_name": "Python 3",
   "language": "python",
   "name": "python3"
  },
  "language_info": {
   "codemirror_mode": {
    "name": "ipython",
    "version": 3
   },
   "file_extension": ".py",
   "mimetype": "text/x-python",
   "name": "python",
   "nbconvert_exporter": "python",
   "pygments_lexer": "ipython3",
   "version": "3.5.2"
  }
 },
 "nbformat": 4,
 "nbformat_minor": 2
}
