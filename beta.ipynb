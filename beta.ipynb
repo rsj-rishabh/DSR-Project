{
 "cells": [
  {
   "cell_type": "code",
   "execution_count": 1,
   "metadata": {},
   "outputs": [],
   "source": [
    "import pandas as pd\n",
    "import nltk\n",
    "import numpy as np"
   ]
  },
  {
   "cell_type": "markdown",
   "metadata": {},
   "source": [
    "# Get Data"
   ]
  },
  {
   "cell_type": "code",
   "execution_count": 2,
   "metadata": {},
   "outputs": [],
   "source": [
    "review_reader = pd.read_json('yelp_academic_dataset_review.json', chunksize=1, lines=True)"
   ]
  },
  {
   "cell_type": "code",
   "execution_count": 3,
   "metadata": {},
   "outputs": [
    {
     "data": {
      "text/html": [
       "<div>\n",
       "<style scoped>\n",
       "    .dataframe tbody tr th:only-of-type {\n",
       "        vertical-align: middle;\n",
       "    }\n",
       "\n",
       "    .dataframe tbody tr th {\n",
       "        vertical-align: top;\n",
       "    }\n",
       "\n",
       "    .dataframe thead th {\n",
       "        text-align: right;\n",
       "    }\n",
       "</style>\n",
       "<table border=\"1\" class=\"dataframe\">\n",
       "  <thead>\n",
       "    <tr style=\"text-align: right;\">\n",
       "      <th></th>\n",
       "      <th>business_id</th>\n",
       "      <th>cool</th>\n",
       "      <th>date</th>\n",
       "      <th>funny</th>\n",
       "      <th>review_id</th>\n",
       "      <th>stars</th>\n",
       "      <th>text</th>\n",
       "      <th>useful</th>\n",
       "      <th>user_id</th>\n",
       "    </tr>\n",
       "  </thead>\n",
       "  <tbody>\n",
       "    <tr>\n",
       "      <th>0</th>\n",
       "      <td>iCQpiavjjPzJ5_3gPD5Ebg</td>\n",
       "      <td>0</td>\n",
       "      <td>2011-02-25</td>\n",
       "      <td>0</td>\n",
       "      <td>x7mDIiDB3jEiPGPHOmDzyw</td>\n",
       "      <td>2</td>\n",
       "      <td>The pizza was okay. Not the best I've had. I p...</td>\n",
       "      <td>0</td>\n",
       "      <td>msQe1u7Z_XuqjGoqhB0J5g</td>\n",
       "    </tr>\n",
       "    <tr>\n",
       "      <th>1</th>\n",
       "      <td>pomGBqfbxcqPv14c3XH-ZQ</td>\n",
       "      <td>0</td>\n",
       "      <td>2012-11-13</td>\n",
       "      <td>0</td>\n",
       "      <td>dDl8zu1vWPdKGihJrwQbpw</td>\n",
       "      <td>5</td>\n",
       "      <td>I love this place! My fiance And I go here atl...</td>\n",
       "      <td>0</td>\n",
       "      <td>msQe1u7Z_XuqjGoqhB0J5g</td>\n",
       "    </tr>\n",
       "    <tr>\n",
       "      <th>2</th>\n",
       "      <td>jtQARsP6P-LbkyjbO1qNGg</td>\n",
       "      <td>1</td>\n",
       "      <td>2014-10-23</td>\n",
       "      <td>1</td>\n",
       "      <td>LZp4UX5zK3e-c5ZGSeo3kA</td>\n",
       "      <td>1</td>\n",
       "      <td>Terrible. Dry corn bread. Rib tips were all fa...</td>\n",
       "      <td>3</td>\n",
       "      <td>msQe1u7Z_XuqjGoqhB0J5g</td>\n",
       "    </tr>\n",
       "    <tr>\n",
       "      <th>3</th>\n",
       "      <td>elqbBhBfElMNSrjFqW3now</td>\n",
       "      <td>0</td>\n",
       "      <td>2011-02-25</td>\n",
       "      <td>0</td>\n",
       "      <td>Er4NBWCmCD4nM8_p1GRdow</td>\n",
       "      <td>2</td>\n",
       "      <td>Back in 2005-2007 this place was my FAVORITE t...</td>\n",
       "      <td>2</td>\n",
       "      <td>msQe1u7Z_XuqjGoqhB0J5g</td>\n",
       "    </tr>\n",
       "    <tr>\n",
       "      <th>4</th>\n",
       "      <td>Ums3gaP2qM3W1XcA5r6SsQ</td>\n",
       "      <td>0</td>\n",
       "      <td>2014-09-05</td>\n",
       "      <td>0</td>\n",
       "      <td>jsDu6QEJHbwP2Blom1PLCA</td>\n",
       "      <td>5</td>\n",
       "      <td>Delicious healthy food. The steak is amazing. ...</td>\n",
       "      <td>0</td>\n",
       "      <td>msQe1u7Z_XuqjGoqhB0J5g</td>\n",
       "    </tr>\n",
       "  </tbody>\n",
       "</table>\n",
       "</div>"
      ],
      "text/plain": [
       "              business_id  cool       date  funny               review_id  \\\n",
       "0  iCQpiavjjPzJ5_3gPD5Ebg     0 2011-02-25      0  x7mDIiDB3jEiPGPHOmDzyw   \n",
       "1  pomGBqfbxcqPv14c3XH-ZQ     0 2012-11-13      0  dDl8zu1vWPdKGihJrwQbpw   \n",
       "2  jtQARsP6P-LbkyjbO1qNGg     1 2014-10-23      1  LZp4UX5zK3e-c5ZGSeo3kA   \n",
       "3  elqbBhBfElMNSrjFqW3now     0 2011-02-25      0  Er4NBWCmCD4nM8_p1GRdow   \n",
       "4  Ums3gaP2qM3W1XcA5r6SsQ     0 2014-09-05      0  jsDu6QEJHbwP2Blom1PLCA   \n",
       "\n",
       "   stars                                               text  useful  \\\n",
       "0      2  The pizza was okay. Not the best I've had. I p...       0   \n",
       "1      5  I love this place! My fiance And I go here atl...       0   \n",
       "2      1  Terrible. Dry corn bread. Rib tips were all fa...       3   \n",
       "3      2  Back in 2005-2007 this place was my FAVORITE t...       2   \n",
       "4      5  Delicious healthy food. The steak is amazing. ...       0   \n",
       "\n",
       "                  user_id  \n",
       "0  msQe1u7Z_XuqjGoqhB0J5g  \n",
       "1  msQe1u7Z_XuqjGoqhB0J5g  \n",
       "2  msQe1u7Z_XuqjGoqhB0J5g  \n",
       "3  msQe1u7Z_XuqjGoqhB0J5g  \n",
       "4  msQe1u7Z_XuqjGoqhB0J5g  "
      ]
     },
     "execution_count": 3,
     "metadata": {},
     "output_type": "execute_result"
    }
   ],
   "source": [
    "i = 0\n",
    "df = []\n",
    "for chunk in review_reader:\n",
    "    #print(chunk)\n",
    "    df.append(pd.DataFrame(chunk))\n",
    "    i = i+1\n",
    "    if i==100:\n",
    "        break\n",
    "review_data = pd.concat(df)\n",
    "review_data.head()"
   ]
  },
  {
   "cell_type": "code",
   "execution_count": 10,
   "metadata": {},
   "outputs": [
    {
     "data": {
      "text/html": [
       "<div>\n",
       "<style scoped>\n",
       "    .dataframe tbody tr th:only-of-type {\n",
       "        vertical-align: middle;\n",
       "    }\n",
       "\n",
       "    .dataframe tbody tr th {\n",
       "        vertical-align: top;\n",
       "    }\n",
       "\n",
       "    .dataframe thead th {\n",
       "        text-align: right;\n",
       "    }\n",
       "</style>\n",
       "<table border=\"1\" class=\"dataframe\">\n",
       "  <thead>\n",
       "    <tr style=\"text-align: right;\">\n",
       "      <th></th>\n",
       "      <th>review_id</th>\n",
       "      <th>text</th>\n",
       "    </tr>\n",
       "  </thead>\n",
       "  <tbody>\n",
       "    <tr>\n",
       "      <th>0</th>\n",
       "      <td>x7mDIiDB3jEiPGPHOmDzyw</td>\n",
       "      <td>The pizza was okay. Not the best I've had. I p...</td>\n",
       "    </tr>\n",
       "    <tr>\n",
       "      <th>1</th>\n",
       "      <td>dDl8zu1vWPdKGihJrwQbpw</td>\n",
       "      <td>I love this place! My fiance And I go here atl...</td>\n",
       "    </tr>\n",
       "    <tr>\n",
       "      <th>2</th>\n",
       "      <td>LZp4UX5zK3e-c5ZGSeo3kA</td>\n",
       "      <td>Terrible. Dry corn bread. Rib tips were all fa...</td>\n",
       "    </tr>\n",
       "    <tr>\n",
       "      <th>3</th>\n",
       "      <td>Er4NBWCmCD4nM8_p1GRdow</td>\n",
       "      <td>Back in 2005-2007 this place was my FAVORITE t...</td>\n",
       "    </tr>\n",
       "    <tr>\n",
       "      <th>4</th>\n",
       "      <td>jsDu6QEJHbwP2Blom1PLCA</td>\n",
       "      <td>Delicious healthy food. The steak is amazing. ...</td>\n",
       "    </tr>\n",
       "  </tbody>\n",
       "</table>\n",
       "</div>"
      ],
      "text/plain": [
       "                review_id                                               text\n",
       "0  x7mDIiDB3jEiPGPHOmDzyw  The pizza was okay. Not the best I've had. I p...\n",
       "1  dDl8zu1vWPdKGihJrwQbpw  I love this place! My fiance And I go here atl...\n",
       "2  LZp4UX5zK3e-c5ZGSeo3kA  Terrible. Dry corn bread. Rib tips were all fa...\n",
       "3  Er4NBWCmCD4nM8_p1GRdow  Back in 2005-2007 this place was my FAVORITE t...\n",
       "4  jsDu6QEJHbwP2Blom1PLCA  Delicious healthy food. The steak is amazing. ..."
      ]
     },
     "execution_count": 10,
     "metadata": {},
     "output_type": "execute_result"
    }
   ],
   "source": [
    "current = review_data.loc[:,['review_id','text']]\n",
    "current.head()"
   ]
  },
  {
   "cell_type": "code",
   "execution_count": 11,
   "metadata": {},
   "outputs": [
    {
     "name": "stdout",
     "output_type": "stream",
     "text": [
      "The pizza was okay. Not the best I've had. I prefer Biaggio's on Flamingo / Fort Apache. The chef there can make a MUCH better NY style pizza. The pizzeria @ Cosmo was over priced for the quality and lack of personality in the food. Biaggio's is a much better pick if youre going for italian - family owned, home made recipes, people that actually CARE if you like their food. You dont get that at a pizzeria in a casino. I dont care what you say...\n"
     ]
    }
   ],
   "source": [
    "text = current['text'][0]\n",
    "print(text)"
   ]
  },
  {
   "cell_type": "markdown",
   "metadata": {},
   "source": [
    "# Tokenize"
   ]
  },
  {
   "cell_type": "code",
   "execution_count": 13,
   "metadata": {},
   "outputs": [
    {
     "name": "stdout",
     "output_type": "stream",
     "text": [
      "[nltk_data] Downloading package punkt to /home/jarvis/nltk_data...\n",
      "[nltk_data]   Unzipping tokenizers/punkt.zip.\n",
      "['The', 'pizza', 'was', 'okay', '.', 'Not', 'the', 'best', 'I', \"'ve\", 'had', '.', 'I', 'prefer', 'Biaggio', \"'s\", 'on', 'Flamingo', '/', 'Fort', 'Apache', '.', 'The', 'chef', 'there', 'can', 'make', 'a', 'MUCH', 'better', 'NY', 'style', 'pizza', '.', 'The', 'pizzeria', '@', 'Cosmo', 'was', 'over', 'priced', 'for', 'the', 'quality', 'and', 'lack', 'of', 'personality', 'in', 'the', 'food', '.', 'Biaggio', \"'s\", 'is', 'a', 'much', 'better', 'pick', 'if', 'youre', 'going', 'for', 'italian', '-', 'family', 'owned', ',', 'home', 'made', 'recipes', ',', 'people', 'that', 'actually', 'CARE', 'if', 'you', 'like', 'their', 'food', '.', 'You', 'dont', 'get', 'that', 'at', 'a', 'pizzeria', 'in', 'a', 'casino', '.', 'I', 'dont', 'care', 'what', 'you', 'say', '...']\n"
     ]
    }
   ],
   "source": [
    "#nltk.download('punkt')\n",
    "tokens = nltk.word_tokenize(text)\n",
    "print(tokens)"
   ]
  },
  {
   "cell_type": "markdown",
   "metadata": {},
   "source": [
    "# 3.1 POS Tagging"
   ]
  },
  {
   "cell_type": "markdown",
   "metadata": {},
   "source": [
    "## Stopword removal"
   ]
  },
  {
   "cell_type": "code",
   "execution_count": 25,
   "metadata": {},
   "outputs": [
    {
     "name": "stdout",
     "output_type": "stream",
     "text": [
      "[nltk_data] Downloading package stopwords to /home/jarvis/nltk_data...\n",
      "[nltk_data]   Unzipping corpora/stopwords.zip.\n"
     ]
    },
    {
     "data": {
      "text/plain": [
       "['The',\n",
       " 'pizza',\n",
       " 'okay',\n",
       " '.',\n",
       " 'Not',\n",
       " 'best',\n",
       " 'I',\n",
       " \"'ve\",\n",
       " '.',\n",
       " 'I',\n",
       " 'prefer',\n",
       " 'Biaggio',\n",
       " \"'s\",\n",
       " 'Flamingo',\n",
       " '/',\n",
       " 'Fort',\n",
       " 'Apache',\n",
       " '.',\n",
       " 'The',\n",
       " 'chef',\n",
       " 'make',\n",
       " 'MUCH',\n",
       " 'better',\n",
       " 'NY',\n",
       " 'style',\n",
       " 'pizza',\n",
       " '.',\n",
       " 'The',\n",
       " 'pizzeria',\n",
       " '@',\n",
       " 'Cosmo',\n",
       " 'priced',\n",
       " 'quality',\n",
       " 'lack',\n",
       " 'personality',\n",
       " 'food',\n",
       " '.',\n",
       " 'Biaggio',\n",
       " \"'s\",\n",
       " 'much',\n",
       " 'better',\n",
       " 'pick',\n",
       " 'youre',\n",
       " 'going',\n",
       " 'italian',\n",
       " '-',\n",
       " 'family',\n",
       " 'owned',\n",
       " ',',\n",
       " 'home',\n",
       " 'made',\n",
       " 'recipes',\n",
       " ',',\n",
       " 'people',\n",
       " 'actually',\n",
       " 'CARE',\n",
       " 'like',\n",
       " 'food',\n",
       " '.',\n",
       " 'You',\n",
       " 'dont',\n",
       " 'get',\n",
       " 'pizzeria',\n",
       " 'casino',\n",
       " '.',\n",
       " 'I',\n",
       " 'dont',\n",
       " 'care',\n",
       " 'say',\n",
       " '...']"
      ]
     },
     "execution_count": 25,
     "metadata": {},
     "output_type": "execute_result"
    }
   ],
   "source": [
    "#nltk.download('stopwords')\n",
    "from nltk.corpus import stopwords\n",
    "stop_words = set(stopwords.words('english')) \n",
    "filtered_text = [w for w in tokens if not w in stop_words] \n",
    "filtered_text"
   ]
  },
  {
   "cell_type": "code",
   "execution_count": 35,
   "metadata": {},
   "outputs": [
    {
     "data": {
      "text/plain": [
       "[('The', 'DT'),\n",
       " ('pizza', 'NN'),\n",
       " ('okay', 'NN'),\n",
       " ('.', '.'),\n",
       " ('Not', 'RB'),\n",
       " ('best', 'JJS'),\n",
       " ('I', 'PRP'),\n",
       " (\"'ve\", 'VBP'),\n",
       " ('.', '.'),\n",
       " ('I', 'PRP'),\n",
       " ('prefer', 'VBP'),\n",
       " ('Biaggio', 'NNP'),\n",
       " (\"'s\", 'POS'),\n",
       " ('Flamingo', 'NNP'),\n",
       " ('/', 'NNP'),\n",
       " ('Fort', 'NNP'),\n",
       " ('Apache', 'NNP'),\n",
       " ('.', '.'),\n",
       " ('The', 'DT'),\n",
       " ('chef', 'NN'),\n",
       " ('make', 'VBP'),\n",
       " ('MUCH', 'NNP'),\n",
       " ('better', 'JJR'),\n",
       " ('NY', 'NNP'),\n",
       " ('style', 'NN'),\n",
       " ('pizza', 'NN'),\n",
       " ('.', '.'),\n",
       " ('The', 'DT'),\n",
       " ('pizzeria', 'NN'),\n",
       " ('@', 'NNP'),\n",
       " ('Cosmo', 'NNP'),\n",
       " ('priced', 'VBN'),\n",
       " ('quality', 'NN'),\n",
       " ('lack', 'NN'),\n",
       " ('personality', 'NN'),\n",
       " ('food', 'NN'),\n",
       " ('.', '.'),\n",
       " ('Biaggio', 'NNP'),\n",
       " (\"'s\", 'POS'),\n",
       " ('much', 'JJ'),\n",
       " ('better', 'RBR'),\n",
       " ('pick', 'JJ'),\n",
       " ('youre', 'NN'),\n",
       " ('going', 'VBG'),\n",
       " ('italian', 'JJ'),\n",
       " ('-', ':'),\n",
       " ('family', 'NN'),\n",
       " ('owned', 'VBD'),\n",
       " (',', ','),\n",
       " ('home', 'NN'),\n",
       " ('made', 'VBD'),\n",
       " ('recipes', 'NNS'),\n",
       " (',', ','),\n",
       " ('people', 'NNS'),\n",
       " ('actually', 'RB'),\n",
       " ('CARE', 'NNP'),\n",
       " ('like', 'IN'),\n",
       " ('food', 'NN'),\n",
       " ('.', '.'),\n",
       " ('You', 'PRP'),\n",
       " ('dont', 'VBP'),\n",
       " ('get', 'VB'),\n",
       " ('pizzeria', 'JJ'),\n",
       " ('casino', 'NN'),\n",
       " ('.', '.'),\n",
       " ('I', 'PRP'),\n",
       " ('dont', 'VBP'),\n",
       " ('care', 'JJ'),\n",
       " ('say', 'VBP'),\n",
       " ('...', ':')]"
      ]
     },
     "execution_count": 35,
     "metadata": {},
     "output_type": "execute_result"
    }
   ],
   "source": [
    "#nltk.download('averaged_perceptron_tagger')\n",
    "tagged_text = nltk.pos_tag(filtered_text)\n",
    "tagged_text"
   ]
  },
  {
   "cell_type": "code",
   "execution_count": 33,
   "metadata": {},
   "outputs": [
    {
     "name": "stdout",
     "output_type": "stream",
     "text": [
      "NN: noun, common, singular or mass\n",
      "    common-carrier cabbage knuckle-duster Casino afghan shed thermostat\n",
      "    investment slide humour falloff slick wind hyena override subhumanity\n",
      "    machinist ...\n"
     ]
    }
   ],
   "source": [
    "#nltk.download('tagsets')\n",
    "nltk.help.upenn_tagset('NN')"
   ]
  },
  {
   "cell_type": "markdown",
   "metadata": {},
   "source": [
    "## Noun / noun phrase filtering"
   ]
  },
  {
   "cell_type": "code",
   "execution_count": 36,
   "metadata": {},
   "outputs": [
    {
     "data": {
      "text/plain": [
       "['pizza',\n",
       " 'okay',\n",
       " 'Biaggio',\n",
       " 'Flamingo',\n",
       " '/',\n",
       " 'Fort',\n",
       " 'Apache',\n",
       " 'chef',\n",
       " 'MUCH',\n",
       " 'NY',\n",
       " 'style',\n",
       " 'pizza',\n",
       " 'pizzeria',\n",
       " '@',\n",
       " 'Cosmo',\n",
       " 'quality',\n",
       " 'lack',\n",
       " 'personality',\n",
       " 'food',\n",
       " 'Biaggio',\n",
       " 'youre',\n",
       " 'family',\n",
       " 'home',\n",
       " 'recipes',\n",
       " 'people',\n",
       " 'CARE',\n",
       " 'food',\n",
       " 'casino']"
      ]
     },
     "execution_count": 36,
     "metadata": {},
     "output_type": "execute_result"
    }
   ],
   "source": [
    "nouns = []\n",
    "for tt in tagged_text:\n",
    "    tag = tt[1]\n",
    "    if tag in ['NN','NNP','NNS','NNPS']:\n",
    "        nouns.append(tt[0])\n",
    "nouns"
   ]
  },
  {
   "cell_type": "markdown",
   "metadata": {},
   "source": [
    "## Stemming"
   ]
  },
  {
   "cell_type": "code",
   "execution_count": 27,
   "metadata": {},
   "outputs": [
    {
     "name": "stdout",
     "output_type": "stream",
     "text": [
      "The\t:\tthe\n",
      "pizza\t:\tpizza\n",
      "was\t:\twa\n",
      "okay\t:\tokay\n",
      ".\t:\t.\n",
      "Not\t:\tnot\n",
      "the\t:\tthe\n",
      "best\t:\tbest\n",
      "I\t:\tI\n",
      "'ve\t:\t've\n",
      "had\t:\thad\n",
      ".\t:\t.\n",
      "I\t:\tI\n",
      "prefer\t:\tprefer\n",
      "Biaggio\t:\tbiaggio\n",
      "'s\t:\t's\n",
      "on\t:\ton\n",
      "Flamingo\t:\tflamingo\n",
      "/\t:\t/\n",
      "Fort\t:\tfort\n",
      "Apache\t:\tapach\n",
      ".\t:\t.\n",
      "The\t:\tthe\n",
      "chef\t:\tchef\n",
      "there\t:\tthere\n",
      "can\t:\tcan\n",
      "make\t:\tmake\n",
      "a\t:\ta\n",
      "MUCH\t:\tmuch\n",
      "better\t:\tbetter\n",
      "NY\t:\tNY\n",
      "style\t:\tstyle\n",
      "pizza\t:\tpizza\n",
      ".\t:\t.\n",
      "The\t:\tthe\n",
      "pizzeria\t:\tpizzeria\n",
      "@\t:\t@\n",
      "Cosmo\t:\tcosmo\n",
      "was\t:\twa\n",
      "over\t:\tover\n",
      "priced\t:\tprice\n",
      "for\t:\tfor\n",
      "the\t:\tthe\n",
      "quality\t:\tqualiti\n",
      "and\t:\tand\n",
      "lack\t:\tlack\n",
      "of\t:\tof\n",
      "personality\t:\tperson\n",
      "in\t:\tin\n",
      "the\t:\tthe\n",
      "food\t:\tfood\n",
      ".\t:\t.\n",
      "Biaggio\t:\tbiaggio\n",
      "'s\t:\t's\n",
      "is\t:\tis\n",
      "a\t:\ta\n",
      "much\t:\tmuch\n",
      "better\t:\tbetter\n",
      "pick\t:\tpick\n",
      "if\t:\tif\n",
      "youre\t:\tyour\n",
      "going\t:\tgo\n",
      "for\t:\tfor\n",
      "italian\t:\titalian\n",
      "-\t:\t-\n",
      "family\t:\tfamili\n",
      "owned\t:\town\n",
      ",\t:\t,\n",
      "home\t:\thome\n",
      "made\t:\tmade\n",
      "recipes\t:\trecip\n",
      ",\t:\t,\n",
      "people\t:\tpeopl\n",
      "that\t:\tthat\n",
      "actually\t:\tactual\n",
      "CARE\t:\tcare\n",
      "if\t:\tif\n",
      "you\t:\tyou\n",
      "like\t:\tlike\n",
      "their\t:\ttheir\n",
      "food\t:\tfood\n",
      ".\t:\t.\n",
      "You\t:\tyou\n",
      "dont\t:\tdont\n",
      "get\t:\tget\n",
      "that\t:\tthat\n",
      "at\t:\tat\n",
      "a\t:\ta\n",
      "pizzeria\t:\tpizzeria\n",
      "in\t:\tin\n",
      "a\t:\ta\n",
      "casino\t:\tcasino\n",
      ".\t:\t.\n",
      "I\t:\tI\n",
      "dont\t:\tdont\n",
      "care\t:\tcare\n",
      "what\t:\twhat\n",
      "you\t:\tyou\n",
      "say\t:\tsay\n",
      "...\t:\t...\n"
     ]
    }
   ],
   "source": [
    "from nltk.stem import PorterStemmer\n",
    "ps = PorterStemmer()\n",
    "for w in tokens:\n",
    "    print(w + '\\t:\\t' + ps.stem(w))"
   ]
  },
  {
   "cell_type": "markdown",
   "metadata": {},
   "source": [
    "## Fuzzy matching"
   ]
  },
  {
   "cell_type": "code",
   "execution_count": 28,
   "metadata": {},
   "outputs": [
    {
     "data": {
      "text/plain": [
       "('Barack H Obama', 95)"
      ]
     },
     "execution_count": 28,
     "metadata": {},
     "output_type": "execute_result"
    }
   ],
   "source": [
    "from fuzzywuzzy import fuzz\n",
    "from fuzzywuzzy import process\n",
    "query = 'Barack Obama'\n",
    "choices = ['Barack H Obama', 'Barack H. Obama', 'B. Obama']\n",
    "# Get a list of matches ordered by score, default limit to 5\n",
    "process.extract(query, choices)\n",
    "# [('Barack H Obama', 95), ('Barack H. Obama', 95), ('B. Obama', 85)]\n",
    " \n",
    "# If we want only the top one\n",
    "process.extractOne(query, choices)\n",
    "# ('Barack H Obama', 95)"
   ]
  },
  {
   "cell_type": "markdown",
   "metadata": {},
   "source": [
    "# 3.2 Frequent features identification"
   ]
  },
  {
   "cell_type": "code",
   "execution_count": null,
   "metadata": {},
   "outputs": [],
   "source": []
  }
 ],
 "metadata": {
  "kernelspec": {
   "display_name": "Python 3",
   "language": "python",
   "name": "python3"
  },
  "language_info": {
   "codemirror_mode": {
    "name": "ipython",
    "version": 3
   },
   "file_extension": ".py",
   "mimetype": "text/x-python",
   "name": "python",
   "nbconvert_exporter": "python",
   "pygments_lexer": "ipython3",
   "version": "3.5.2"
  }
 },
 "nbformat": 4,
 "nbformat_minor": 2
}
